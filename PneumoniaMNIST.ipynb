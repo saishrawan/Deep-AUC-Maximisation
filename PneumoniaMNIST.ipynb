{
  "cells": [
    {
      "cell_type": "code",
      "source": [
        "# !apt-get --purge remove cuda nvidia* libnvidia-*\n",
        "# !dpkg -l | grep cuda- | awk '{print $2}' | xargs -n1 dpkg --purge\n",
        "# !apt-get remove cuda-*\n",
        "# !apt autoremove\n",
        "# !apt-get update\n",
        "# !wget https://developer.nvidia.com/compute/cuda/9.2/Prod/local_installers/cuda-repo-ubuntu1604-9-2-local_9.2.88-1_amd64 -O cuda-repo-ubuntu1604-9-2-local_9.2.88-1_amd64.deb\n",
        "# !dpkg -i cuda-repo-ubuntu1604-9-2-local_9.2.88-1_amd64.deb\n",
        "# !apt-key add /var/cuda-repo-9-2-local/7fa2af80.pub\n",
        "# !apt-get update\n",
        "# !apt-get install cuda-9.2\n",
        "# !pip install git+git://github.com/andreinechaev/nvcc4jupyter.git\n",
        "# %load_ext nvcc_plugin"
      ],
      "metadata": {
        "id": "AG-1pMHwodtX"
      },
      "execution_count": 1,
      "outputs": []
    },
    {
      "cell_type": "code",
      "execution_count": 2,
      "metadata": {
        "colab": {
          "base_uri": "https://localhost:8080/"
        },
        "id": "S2FHMCXFtIXb",
        "outputId": "92c86103-c234-4455-fe1b-47d8186ef4db"
      },
      "outputs": [
        {
          "output_type": "stream",
          "name": "stdout",
          "text": [
            "Looking in indexes: https://pypi.org/simple, https://us-python.pkg.dev/colab-wheels/public/simple/\n",
            "Collecting libauc==1.2.0\n",
            "  Downloading libauc-1.2.0-py3-none-any.whl (73 kB)\n",
            "\u001b[2K     \u001b[90m━━━━━━━━━━━━━━━━━━━━━━━━━━━━━━━━━━━━━━━━\u001b[0m \u001b[32m73.6/73.6 kB\u001b[0m \u001b[31m2.3 MB/s\u001b[0m eta \u001b[36m0:00:00\u001b[0m\n",
            "\u001b[?25hRequirement already satisfied: pandas in /usr/local/lib/python3.10/dist-packages (from libauc==1.2.0) (1.5.3)\n",
            "Requirement already satisfied: scikit-learn in /usr/local/lib/python3.10/dist-packages (from libauc==1.2.0) (1.2.2)\n",
            "Requirement already satisfied: opencv-python in /usr/local/lib/python3.10/dist-packages (from libauc==1.2.0) (4.7.0.72)\n",
            "Requirement already satisfied: numpy in /usr/local/lib/python3.10/dist-packages (from libauc==1.2.0) (1.22.4)\n",
            "Requirement already satisfied: Pillow in /usr/local/lib/python3.10/dist-packages (from libauc==1.2.0) (8.4.0)\n",
            "Requirement already satisfied: torch>=1.2 in /usr/local/lib/python3.10/dist-packages (from libauc==1.2.0) (2.0.0+cu118)\n",
            "Requirement already satisfied: scikit-image in /usr/local/lib/python3.10/dist-packages (from libauc==1.2.0) (0.19.3)\n",
            "Requirement already satisfied: networkx in /usr/local/lib/python3.10/dist-packages (from torch>=1.2->libauc==1.2.0) (3.1)\n",
            "Requirement already satisfied: typing-extensions in /usr/local/lib/python3.10/dist-packages (from torch>=1.2->libauc==1.2.0) (4.5.0)\n",
            "Requirement already satisfied: sympy in /usr/local/lib/python3.10/dist-packages (from torch>=1.2->libauc==1.2.0) (1.11.1)\n",
            "Requirement already satisfied: jinja2 in /usr/local/lib/python3.10/dist-packages (from torch>=1.2->libauc==1.2.0) (3.1.2)\n",
            "Requirement already satisfied: filelock in /usr/local/lib/python3.10/dist-packages (from torch>=1.2->libauc==1.2.0) (3.12.0)\n",
            "Requirement already satisfied: triton==2.0.0 in /usr/local/lib/python3.10/dist-packages (from torch>=1.2->libauc==1.2.0) (2.0.0)\n",
            "Requirement already satisfied: lit in /usr/local/lib/python3.10/dist-packages (from triton==2.0.0->torch>=1.2->libauc==1.2.0) (16.0.2)\n",
            "Requirement already satisfied: cmake in /usr/local/lib/python3.10/dist-packages (from triton==2.0.0->torch>=1.2->libauc==1.2.0) (3.25.2)\n",
            "Requirement already satisfied: pytz>=2020.1 in /usr/local/lib/python3.10/dist-packages (from pandas->libauc==1.2.0) (2022.7.1)\n",
            "Requirement already satisfied: python-dateutil>=2.8.1 in /usr/local/lib/python3.10/dist-packages (from pandas->libauc==1.2.0) (2.8.2)\n",
            "Requirement already satisfied: imageio>=2.4.1 in /usr/local/lib/python3.10/dist-packages (from scikit-image->libauc==1.2.0) (2.25.1)\n",
            "Requirement already satisfied: PyWavelets>=1.1.1 in /usr/local/lib/python3.10/dist-packages (from scikit-image->libauc==1.2.0) (1.4.1)\n",
            "Requirement already satisfied: scipy>=1.4.1 in /usr/local/lib/python3.10/dist-packages (from scikit-image->libauc==1.2.0) (1.10.1)\n",
            "Requirement already satisfied: packaging>=20.0 in /usr/local/lib/python3.10/dist-packages (from scikit-image->libauc==1.2.0) (23.1)\n",
            "Requirement already satisfied: tifffile>=2019.7.26 in /usr/local/lib/python3.10/dist-packages (from scikit-image->libauc==1.2.0) (2023.4.12)\n",
            "Requirement already satisfied: threadpoolctl>=2.0.0 in /usr/local/lib/python3.10/dist-packages (from scikit-learn->libauc==1.2.0) (3.1.0)\n",
            "Requirement already satisfied: joblib>=1.1.1 in /usr/local/lib/python3.10/dist-packages (from scikit-learn->libauc==1.2.0) (1.2.0)\n",
            "Requirement already satisfied: six>=1.5 in /usr/local/lib/python3.10/dist-packages (from python-dateutil>=2.8.1->pandas->libauc==1.2.0) (1.16.0)\n",
            "Requirement already satisfied: MarkupSafe>=2.0 in /usr/local/lib/python3.10/dist-packages (from jinja2->torch>=1.2->libauc==1.2.0) (2.1.2)\n",
            "Requirement already satisfied: mpmath>=0.19 in /usr/local/lib/python3.10/dist-packages (from sympy->torch>=1.2->libauc==1.2.0) (1.3.0)\n",
            "Installing collected packages: libauc\n",
            "Successfully installed libauc-1.2.0\n",
            "Looking in indexes: https://pypi.org/simple, https://us-python.pkg.dev/colab-wheels/public/simple/\n",
            "Collecting medmnist\n",
            "  Downloading medmnist-2.2.1-py3-none-any.whl (21 kB)\n",
            "Requirement already satisfied: tqdm in /usr/local/lib/python3.10/dist-packages (from medmnist) (4.65.0)\n",
            "Requirement already satisfied: torchvision in /usr/local/lib/python3.10/dist-packages (from medmnist) (0.15.1+cu118)\n",
            "Requirement already satisfied: scikit-learn in /usr/local/lib/python3.10/dist-packages (from medmnist) (1.2.2)\n",
            "Requirement already satisfied: pandas in /usr/local/lib/python3.10/dist-packages (from medmnist) (1.5.3)\n",
            "Requirement already satisfied: torch in /usr/local/lib/python3.10/dist-packages (from medmnist) (2.0.0+cu118)\n",
            "Requirement already satisfied: numpy in /usr/local/lib/python3.10/dist-packages (from medmnist) (1.22.4)\n",
            "Requirement already satisfied: scikit-image in /usr/local/lib/python3.10/dist-packages (from medmnist) (0.19.3)\n",
            "Requirement already satisfied: Pillow in /usr/local/lib/python3.10/dist-packages (from medmnist) (8.4.0)\n",
            "Collecting fire\n",
            "  Downloading fire-0.5.0.tar.gz (88 kB)\n",
            "\u001b[2K     \u001b[90m━━━━━━━━━━━━━━━━━━━━━━━━━━━━━━━━━━━━━━━━\u001b[0m \u001b[32m88.3/88.3 kB\u001b[0m \u001b[31m3.8 MB/s\u001b[0m eta \u001b[36m0:00:00\u001b[0m\n",
            "\u001b[?25h  Preparing metadata (setup.py) ... \u001b[?25l\u001b[?25hdone\n",
            "Requirement already satisfied: six in /usr/local/lib/python3.10/dist-packages (from fire->medmnist) (1.16.0)\n",
            "Requirement already satisfied: termcolor in /usr/local/lib/python3.10/dist-packages (from fire->medmnist) (2.3.0)\n",
            "Requirement already satisfied: pytz>=2020.1 in /usr/local/lib/python3.10/dist-packages (from pandas->medmnist) (2022.7.1)\n",
            "Requirement already satisfied: python-dateutil>=2.8.1 in /usr/local/lib/python3.10/dist-packages (from pandas->medmnist) (2.8.2)\n",
            "Requirement already satisfied: packaging>=20.0 in /usr/local/lib/python3.10/dist-packages (from scikit-image->medmnist) (23.1)\n",
            "Requirement already satisfied: imageio>=2.4.1 in /usr/local/lib/python3.10/dist-packages (from scikit-image->medmnist) (2.25.1)\n",
            "Requirement already satisfied: PyWavelets>=1.1.1 in /usr/local/lib/python3.10/dist-packages (from scikit-image->medmnist) (1.4.1)\n",
            "Requirement already satisfied: scipy>=1.4.1 in /usr/local/lib/python3.10/dist-packages (from scikit-image->medmnist) (1.10.1)\n",
            "Requirement already satisfied: networkx>=2.2 in /usr/local/lib/python3.10/dist-packages (from scikit-image->medmnist) (3.1)\n",
            "Requirement already satisfied: tifffile>=2019.7.26 in /usr/local/lib/python3.10/dist-packages (from scikit-image->medmnist) (2023.4.12)\n",
            "Requirement already satisfied: joblib>=1.1.1 in /usr/local/lib/python3.10/dist-packages (from scikit-learn->medmnist) (1.2.0)\n",
            "Requirement already satisfied: threadpoolctl>=2.0.0 in /usr/local/lib/python3.10/dist-packages (from scikit-learn->medmnist) (3.1.0)\n",
            "Requirement already satisfied: sympy in /usr/local/lib/python3.10/dist-packages (from torch->medmnist) (1.11.1)\n",
            "Requirement already satisfied: jinja2 in /usr/local/lib/python3.10/dist-packages (from torch->medmnist) (3.1.2)\n",
            "Requirement already satisfied: triton==2.0.0 in /usr/local/lib/python3.10/dist-packages (from torch->medmnist) (2.0.0)\n",
            "Requirement already satisfied: filelock in /usr/local/lib/python3.10/dist-packages (from torch->medmnist) (3.12.0)\n",
            "Requirement already satisfied: typing-extensions in /usr/local/lib/python3.10/dist-packages (from torch->medmnist) (4.5.0)\n",
            "Requirement already satisfied: cmake in /usr/local/lib/python3.10/dist-packages (from triton==2.0.0->torch->medmnist) (3.25.2)\n",
            "Requirement already satisfied: lit in /usr/local/lib/python3.10/dist-packages (from triton==2.0.0->torch->medmnist) (16.0.2)\n",
            "Requirement already satisfied: requests in /usr/local/lib/python3.10/dist-packages (from torchvision->medmnist) (2.27.1)\n",
            "Requirement already satisfied: MarkupSafe>=2.0 in /usr/local/lib/python3.10/dist-packages (from jinja2->torch->medmnist) (2.1.2)\n",
            "Requirement already satisfied: charset-normalizer~=2.0.0 in /usr/local/lib/python3.10/dist-packages (from requests->torchvision->medmnist) (2.0.12)\n",
            "Requirement already satisfied: certifi>=2017.4.17 in /usr/local/lib/python3.10/dist-packages (from requests->torchvision->medmnist) (2022.12.7)\n",
            "Requirement already satisfied: urllib3<1.27,>=1.21.1 in /usr/local/lib/python3.10/dist-packages (from requests->torchvision->medmnist) (1.26.15)\n",
            "Requirement already satisfied: idna<4,>=2.5 in /usr/local/lib/python3.10/dist-packages (from requests->torchvision->medmnist) (3.4)\n",
            "Requirement already satisfied: mpmath>=0.19 in /usr/local/lib/python3.10/dist-packages (from sympy->torch->medmnist) (1.3.0)\n",
            "Building wheels for collected packages: fire\n",
            "  Building wheel for fire (setup.py) ... \u001b[?25l\u001b[?25hdone\n",
            "  Created wheel for fire: filename=fire-0.5.0-py2.py3-none-any.whl size=116952 sha256=b1de1d00813fafb1c6696ed2df9db5c4731e6d8233fdfe11780ee231dea02008\n",
            "  Stored in directory: /root/.cache/pip/wheels/90/d4/f7/9404e5db0116bd4d43e5666eaa3e70ab53723e1e3ea40c9a95\n",
            "Successfully built fire\n",
            "Installing collected packages: fire, medmnist\n",
            "Successfully installed fire-0.5.0 medmnist-2.2.1\n"
          ]
        }
      ],
      "source": [
        "# Install libAUC and medMNIST\n",
        "!pip install libauc==1.2.0\n",
        "!pip install medmnist"
      ]
    },
    {
      "cell_type": "code",
      "execution_count": 3,
      "metadata": {
        "id": "2ijm1bJttThI"
      },
      "outputs": [],
      "source": [
        "from tqdm import tqdm\n",
        "import numpy as np\n",
        "import torch\n",
        "import torch.nn as nn\n",
        "import torch.optim as optim\n",
        "import torch.utils.data as data\n",
        "import torchvision.transforms as transforms\n",
        "import medmnist\n",
        "from medmnist import INFO, Evaluator"
      ]
    },
    {
      "cell_type": "code",
      "source": [
        "# Load pneumoniaMNIST\n",
        "data_flag = 'pneumoniamnist'\n",
        "download = True\n",
        "\n",
        "info = INFO[data_flag]\n",
        "task = info['task']\n",
        "n_channels = info['n_channels']\n",
        "n_classes = len(info['label'])\n",
        "DataClass = getattr(medmnist, info['python_class'])"
      ],
      "metadata": {
        "id": "zMCedDg0Zzbs"
      },
      "execution_count": 4,
      "outputs": []
    },
    {
      "cell_type": "code",
      "execution_count": 5,
      "metadata": {
        "id": "mXonz7Y3tVbI",
        "colab": {
          "base_uri": "https://localhost:8080/"
        },
        "outputId": "a4cb850b-603d-4d5b-c0a7-5e7de4510c88"
      },
      "outputs": [
        {
          "metadata": {
            "tags": null
          },
          "name": "stdout",
          "output_type": "stream",
          "text": [
            "Downloading https://zenodo.org/record/6496656/files/pneumoniamnist.npz?download=1 to /root/.medmnist/pneumoniamnist.npz\n"
          ]
        },
        {
          "metadata": {
            "tags": null
          },
          "name": "stderr",
          "output_type": "stream",
          "text": [
            "100%|██████████| 4170669/4170669 [00:00<00:00, 4766629.52it/s]\n",
            "/usr/local/lib/python3.10/dist-packages/torchvision/models/_utils.py:208: UserWarning: The parameter 'pretrained' is deprecated since 0.13 and may be removed in the future, please use 'weights' instead.\n",
            "  warnings.warn(\n",
            "/usr/local/lib/python3.10/dist-packages/torchvision/models/_utils.py:223: UserWarning: Arguments other than a weight enum or `None` for 'weights' are deprecated since 0.13 and may be removed in the future. The current behavior is equivalent to passing `weights=None`.\n",
            "  warnings.warn(msg)\n"
          ]
        },
        {
          "output_type": "stream",
          "name": "stdout",
          "text": [
            "Using downloaded and verified file: /root/.medmnist/pneumoniamnist.npz\n",
            "Using downloaded and verified file: /root/.medmnist/pneumoniamnist.npz\n",
            "Start Training\n",
            "------------------------------\n",
            "epoch: 0, train_loss: 2.7861, train_auc: 0.9599, val_auc: 0.9500, test_auc: 0.9049, lr: 0.1000\n",
            "epoch: 1, train_loss: 0.0295, train_auc: 0.9665, val_auc: 0.9532, test_auc: 0.9044, lr: 0.1000\n",
            "epoch: 2, train_loss: 0.0235, train_auc: 0.9823, val_auc: 0.9717, test_auc: 0.9051, lr: 0.1000\n",
            "epoch: 3, train_loss: 0.0212, train_auc: 0.9680, val_auc: 0.9496, test_auc: 0.8855, lr: 0.1000\n",
            "epoch: 4, train_loss: 0.0194, train_auc: 0.9815, val_auc: 0.9724, test_auc: 0.8970, lr: 0.1000\n",
            "epoch: 5, train_loss: 0.0188, train_auc: 0.9905, val_auc: 0.9859, test_auc: 0.9369, lr: 0.1000\n",
            "epoch: 6, train_loss: 0.0181, train_auc: 0.9787, val_auc: 0.9678, test_auc: 0.8824, lr: 0.1000\n",
            "epoch: 7, train_loss: 0.0175, train_auc: 0.9829, val_auc: 0.9792, test_auc: 0.8816, lr: 0.1000\n",
            "epoch: 8, train_loss: 0.0152, train_auc: 0.9912, val_auc: 0.9914, test_auc: 0.9215, lr: 0.1000\n",
            "epoch: 9, train_loss: 0.0167, train_auc: 0.9937, val_auc: 0.9908, test_auc: 0.9344, lr: 0.1000\n",
            "epoch: 10, train_loss: 0.0159, train_auc: 0.9911, val_auc: 0.9889, test_auc: 0.9337, lr: 0.1000\n",
            "epoch: 11, train_loss: 0.0160, train_auc: 0.9882, val_auc: 0.9846, test_auc: 0.8857, lr: 0.1000\n",
            "epoch: 12, train_loss: 0.0153, train_auc: 0.9858, val_auc: 0.9733, test_auc: 0.8642, lr: 0.1000\n",
            "epoch: 13, train_loss: 0.0152, train_auc: 0.9898, val_auc: 0.9913, test_auc: 0.8985, lr: 0.1000\n",
            "epoch: 14, train_loss: 0.0150, train_auc: 0.9912, val_auc: 0.9894, test_auc: 0.9311, lr: 0.1000\n",
            "epoch: 15, train_loss: 0.0143, train_auc: 0.9926, val_auc: 0.9926, test_auc: 0.9391, lr: 0.1000\n",
            "epoch: 16, train_loss: 0.0152, train_auc: 0.9934, val_auc: 0.9925, test_auc: 0.9321, lr: 0.1000\n",
            "epoch: 17, train_loss: 0.0138, train_auc: 0.9831, val_auc: 0.9865, test_auc: 0.9415, lr: 0.1000\n",
            "epoch: 18, train_loss: 0.0141, train_auc: 0.9833, val_auc: 0.9805, test_auc: 0.9139, lr: 0.1000\n",
            "epoch: 19, train_loss: 0.0136, train_auc: 0.9932, val_auc: 0.9924, test_auc: 0.9496, lr: 0.1000\n",
            "epoch: 20, train_loss: 0.0143, train_auc: 0.9942, val_auc: 0.9927, test_auc: 0.9352, lr: 0.1000\n",
            "epoch: 21, train_loss: 0.0155, train_auc: 0.9890, val_auc: 0.9917, test_auc: 0.9259, lr: 0.1000\n",
            "epoch: 22, train_loss: 0.0145, train_auc: 0.9941, val_auc: 0.9887, test_auc: 0.9313, lr: 0.1000\n",
            "epoch: 23, train_loss: 0.0136, train_auc: 0.9889, val_auc: 0.9764, test_auc: 0.8880, lr: 0.1000\n",
            "epoch: 24, train_loss: 0.0140, train_auc: 0.9900, val_auc: 0.9791, test_auc: 0.9201, lr: 0.1000\n",
            "epoch: 25, train_loss: 0.0147, train_auc: 0.9870, val_auc: 0.9882, test_auc: 0.9072, lr: 0.1000\n",
            "epoch: 26, train_loss: 0.0125, train_auc: 0.9729, val_auc: 0.9871, test_auc: 0.9511, lr: 0.1000\n",
            "epoch: 27, train_loss: 0.0144, train_auc: 0.9856, val_auc: 0.9719, test_auc: 0.8808, lr: 0.1000\n",
            "epoch: 28, train_loss: 0.0129, train_auc: 0.9941, val_auc: 0.9909, test_auc: 0.9462, lr: 0.1000\n",
            "epoch: 29, train_loss: 0.0135, train_auc: 0.9924, val_auc: 0.9900, test_auc: 0.9442, lr: 0.1000\n",
            "epoch: 30, train_loss: 0.0149, train_auc: 0.9909, val_auc: 0.9895, test_auc: 0.9447, lr: 0.1000\n",
            "epoch: 31, train_loss: 0.0132, train_auc: 0.9946, val_auc: 0.9927, test_auc: 0.9448, lr: 0.1000\n",
            "epoch: 32, train_loss: 0.0134, train_auc: 0.9933, val_auc: 0.9896, test_auc: 0.9241, lr: 0.1000\n",
            "epoch: 33, train_loss: 0.0126, train_auc: 0.9947, val_auc: 0.9937, test_auc: 0.9389, lr: 0.1000\n",
            "epoch: 34, train_loss: 0.0133, train_auc: 0.9935, val_auc: 0.9918, test_auc: 0.9376, lr: 0.1000\n",
            "epoch: 35, train_loss: 0.0141, train_auc: 0.9920, val_auc: 0.9892, test_auc: 0.9290, lr: 0.1000\n",
            "epoch: 36, train_loss: 0.0140, train_auc: 0.9927, val_auc: 0.9944, test_auc: 0.9455, lr: 0.1000\n",
            "epoch: 37, train_loss: 0.0124, train_auc: 0.9942, val_auc: 0.9930, test_auc: 0.9299, lr: 0.1000\n",
            "epoch: 38, train_loss: 0.0144, train_auc: 0.9961, val_auc: 0.9934, test_auc: 0.9442, lr: 0.1000\n",
            "epoch: 39, train_loss: 0.0125, train_auc: 0.9949, val_auc: 0.9910, test_auc: 0.9282, lr: 0.1000\n",
            "epoch: 40, train_loss: 0.0127, train_auc: 0.9952, val_auc: 0.9937, test_auc: 0.9307, lr: 0.1000\n",
            "epoch: 41, train_loss: 0.0130, train_auc: 0.9951, val_auc: 0.9941, test_auc: 0.9457, lr: 0.1000\n",
            "epoch: 42, train_loss: 0.0148, train_auc: 0.9929, val_auc: 0.9928, test_auc: 0.9271, lr: 0.1000\n",
            "epoch: 43, train_loss: 0.0133, train_auc: 0.9941, val_auc: 0.9924, test_auc: 0.9196, lr: 0.1000\n",
            "epoch: 44, train_loss: 0.0141, train_auc: 0.9950, val_auc: 0.9888, test_auc: 0.9302, lr: 0.1000\n",
            "epoch: 45, train_loss: 0.0133, train_auc: 0.9913, val_auc: 0.9888, test_auc: 0.9280, lr: 0.1000\n",
            "epoch: 46, train_loss: 0.0141, train_auc: 0.9934, val_auc: 0.9898, test_auc: 0.9243, lr: 0.1000\n",
            "epoch: 47, train_loss: 0.0129, train_auc: 0.9823, val_auc: 0.9860, test_auc: 0.9423, lr: 0.1000\n",
            "epoch: 48, train_loss: 0.0141, train_auc: 0.9929, val_auc: 0.9925, test_auc: 0.9519, lr: 0.1000\n",
            "epoch: 49, train_loss: 0.0135, train_auc: 0.9923, val_auc: 0.9808, test_auc: 0.9281, lr: 0.1000\n",
            "epoch: 50, train_loss: 0.0136, train_auc: 0.9928, val_auc: 0.9937, test_auc: 0.9203, lr: 0.1000\n",
            "epoch: 51, train_loss: 0.0141, train_auc: 0.9918, val_auc: 0.9858, test_auc: 0.9437, lr: 0.1000\n",
            "No improvement in validation AUC for 15 epochs. Training stopped early.\n"
          ]
        }
      ],
      "source": [
        "import torch\n",
        "import torch.nn as nn\n",
        "import torch.optim as optim\n",
        "import torchvision\n",
        "import torchvision.transforms as transforms\n",
        "from torch.utils.data import DataLoader\n",
        "\n",
        "from libauc.losses import AUCMLoss\n",
        "from libauc.optimizers import PESG\n",
        "from libauc.metrics import auc_roc_score\n",
        "\n",
        "from sklearn.metrics import roc_auc_score\n",
        "import random\n",
        "\n",
        "random_seed = 41\n",
        "random.seed(random_seed)\n",
        "np.random.seed(random_seed)\n",
        "torch.manual_seed(random_seed)\n",
        "torch.backends.cudnn.deterministic = True\n",
        "torch.backends.cudnn.benchmark = False\n",
        "\n",
        "BATCH_SIZE = 64\n",
        "imratio = 0.1  # for demo\n",
        "total_epochs = 120\n",
        "#decay_epochs = [50, 75]\n",
        "\n",
        "# Set device\n",
        "# device = torch.device(\"cuda\" if torch.cuda.is_available() else \"cpu\")\n",
        "\n",
        "# Define transformations\n",
        "transform_train = transforms.Compose([\n",
        "    transforms.RandomHorizontalFlip(),\n",
        "    transforms.RandomRotation(3),\n",
        "    # transforms.RandomCrop(32, padding=4),\n",
        "    transforms.ToTensor(),\n",
        "    transforms.Normalize(mean=[0.5], std=[0.5])\n",
        "])\n",
        "\n",
        "transform_test = transforms.Compose([\n",
        "    transforms.ToTensor(),\n",
        "    transforms.Normalize(mean=[0.5], std=[0.5])\n",
        "])\n",
        "\n",
        "transform_val = transforms.Compose([\n",
        "    transforms.ToTensor(),\n",
        "    transforms.Normalize(mean=[0.5], std=[0.5])\n",
        "])\n",
        "\n",
        "# Load the data\n",
        "train_dataset = DataClass(split='train', transform=transform_train, download=download)\n",
        "test_dataset = DataClass(split='test', transform=transform_test, download=download)\n",
        "val_dataset = DataClass(split='val', transform=transform_val, download=download)\n",
        "\n",
        "# Encapsulate data into dataloader form\n",
        "train_loader = DataLoader(dataset=train_dataset, batch_size=BATCH_SIZE, shuffle=True)\n",
        "train_loader_at_eval = DataLoader(dataset=train_dataset, batch_size=2*BATCH_SIZE, shuffle=False)\n",
        "test_loader = DataLoader(dataset=test_dataset, batch_size=2*BATCH_SIZE, shuffle=False)\n",
        "val_loader = DataLoader(dataset=val_dataset, batch_size=2*BATCH_SIZE, shuffle=False)\n",
        "\n",
        "# Instantiate the ResNet-18 model[Single Channel] and set it to training mode\n",
        "model = torchvision.models.resnet18(pretrained=False)\n",
        "model.conv1 = nn.Conv2d(1, 64, kernel_size=7, stride=2, padding=3, bias=False)\n",
        "num_ftrs = model.fc.in_features\n",
        "model.fc = nn.Sequential(\n",
        "    # nn.Dropout(p=0.1),\n",
        "    nn.Linear(num_ftrs, 2)\n",
        ")\n",
        "\n",
        "# Define loss function and optimizer\n",
        "loss_fn = AUCMLoss()\n",
        "optimizer = PESG(model, loss_fn=loss_fn, momentum=0.8, margin=1.0, epoch_decay=0.03, lr=0.01, weight_decay=1e-5)\n",
        "\n",
        "# Set early stopping parameters\n",
        "early_stop_epochs = 15  # Stop if validation AUC does not improve for 10 epochs\n",
        "best_val_auc = 0\n",
        "epochs_since_last_improvement = 0\n",
        "\n",
        "# Training loop\n",
        "print('Start Training')\n",
        "print('-'*30)\n",
        "\n",
        "train_log = []\n",
        "test_log = []\n",
        "val_log = []\n",
        "for epoch in range(total_epochs):\n",
        "    train_loss = []\n",
        "    model.train()\n",
        "    for data, targets in train_loader:\n",
        "        y_pred = model(data)\n",
        "        loss = loss_fn(y_pred, targets)\n",
        "        optimizer.zero_grad()\n",
        "        loss.backward()\n",
        "        optimizer.step()\n",
        "        train_loss.append(loss.item())\n",
        "\n",
        "    # Evaluation on train & test sets\n",
        "    model.eval()\n",
        "    train_pred_list = []\n",
        "    train_true_list = []\n",
        "    for train_data, train_targets in train_loader_at_eval:\n",
        "        train_pred = model(train_data)\n",
        "        train_pred_list.append(train_pred.cpu().detach().numpy())\n",
        "        train_true_list.append(train_targets.numpy())\n",
        "    train_true = np.concatenate(train_true_list)\n",
        "    train_pred = np.concatenate(train_pred_list)\n",
        "    train_auc = auc_roc_score(train_true, train_pred)\n",
        "    train_loss = np.mean(train_loss)\n",
        "\n",
        "    val_pred_list = []\n",
        "    val_true_list = []\n",
        "    for val_data, val_targets in val_loader:\n",
        "         val_pred = model(val_data)\n",
        "         val_pred_list.append(val_pred.cpu().detach().numpy())\n",
        "         val_true_list.append(val_targets.numpy())\n",
        "    val_true = np.concatenate(val_true_list)\n",
        "    val_pred = np.concatenate(val_pred_list)\n",
        "    val_auc =  auc_roc_score(val_true, val_pred)\n",
        "\n",
        "    test_pred_list = []\n",
        "    test_true_list = []\n",
        "    for test_data, test_targets in test_loader:\n",
        "         test_pred = model(test_data)\n",
        "         test_pred_list.append(test_pred.cpu().detach().numpy())\n",
        "         test_true_list.append(test_targets.numpy())\n",
        "    test_true = np.concatenate(test_true_list)\n",
        "    test_pred = np.concatenate(test_pred_list)\n",
        "    test_auc =  auc_roc_score(test_true, test_pred) \n",
        "    model.train()\n",
        "\n",
        "    # print results\n",
        "    print(\"epoch: %s, train_loss: %.4f, train_auc: %.4f, val_auc: %.4f, test_auc: %.4f, lr: %.4f\"%(epoch, train_loss, train_auc[0], val_auc[0], test_auc[0], optimizer.lr ))    \n",
        "    train_log.append(train_auc[0]) \n",
        "    test_log.append(val_auc[0])\n",
        "\n",
        "    # Check for early stopping\n",
        "    if val_auc[0] > best_val_auc:\n",
        "        best_val_auc = val_auc[0]\n",
        "        best_test_auc = test_auc[0] #Test AUC corresponding to best Val AUC\n",
        "        epochs_since_last_improvement = 0\n",
        "    else:\n",
        "        epochs_since_last_improvement += 1\n",
        "        if epochs_since_last_improvement >= early_stop_epochs:\n",
        "            print(f\"No improvement in validation AUC for {early_stop_epochs} epochs. Training stopped early.\")\n",
        "            break\n"
      ]
    },
    {
      "cell_type": "code",
      "source": [
        "print(best_test_auc)\n",
        "print(train_dataset)\n",
        "print(\"===================\")\n",
        "print(test_dataset)"
      ],
      "metadata": {
        "id": "Ca7sBJVXgc4A",
        "colab": {
          "base_uri": "https://localhost:8080/"
        },
        "outputId": "79a60bcf-328a-4984-ee0e-93f35c5fcf15"
      },
      "execution_count": 9,
      "outputs": [
        {
          "output_type": "stream",
          "name": "stdout",
          "text": [
            "0.9455402147709842\n",
            "Dataset PneumoniaMNIST (pneumoniamnist)\n",
            "    Number of datapoints: 4708\n",
            "    Root location: /root/.medmnist\n",
            "    Split: train\n",
            "    Task: binary-class\n",
            "    Number of channels: 1\n",
            "    Meaning of labels: {'0': 'normal', '1': 'pneumonia'}\n",
            "    Number of samples: {'train': 4708, 'val': 524, 'test': 624}\n",
            "    Description: The PneumoniaMNIST is based on a prior dataset of 5,856 pediatric chest X-Ray images. The task is binary-class classification of pneumonia against normal. We split the source training set with a ratio of 9:1 into training and validation set and use its source validation set as the test set. The source images are gray-scale, and their sizes are (384−2,916)×(127−2,713). We center-crop the images and resize them into 1×28×28.\n",
            "    License: CC BY 4.0\n",
            "===================\n",
            "Dataset PneumoniaMNIST (pneumoniamnist)\n",
            "    Number of datapoints: 624\n",
            "    Root location: /root/.medmnist\n",
            "    Split: test\n",
            "    Task: binary-class\n",
            "    Number of channels: 1\n",
            "    Meaning of labels: {'0': 'normal', '1': 'pneumonia'}\n",
            "    Number of samples: {'train': 4708, 'val': 524, 'test': 624}\n",
            "    Description: The PneumoniaMNIST is based on a prior dataset of 5,856 pediatric chest X-Ray images. The task is binary-class classification of pneumonia against normal. We split the source training set with a ratio of 9:1 into training and validation set and use its source validation set as the test set. The source images are gray-scale, and their sizes are (384−2,916)×(127−2,713). We center-crop the images and resize them into 1×28×28.\n",
            "    License: CC BY 4.0\n"
          ]
        }
      ]
    },
    {
      "cell_type": "code",
      "source": [
        "import matplotlib.pyplot as plt\n",
        "\n",
        "plt.plot(train_log, label='Training AUC')\n",
        "plt.plot(val_log, label='Validation AUC')\n",
        "plt.plot(test_log, label='Testing AUC')\n",
        "plt.xlabel('Epochs')\n",
        "plt.ylabel('AUC')\n",
        "plt.legend()\n",
        "plt.show()\n"
      ],
      "metadata": {
        "id": "mD9I83UdaOb0",
        "colab": {
          "base_uri": "https://localhost:8080/",
          "height": 449
        },
        "outputId": "e21550ac-a395-4a03-e23b-1feee9ff439b"
      },
      "execution_count": 7,
      "outputs": [
        {
          "output_type": "display_data",
          "data": {
            "text/plain": [
              "<Figure size 640x480 with 1 Axes>"
            ],
            "image/png": "[encoded data removed]"
          },
          "metadata": {}
        }
      ]
    },
    {
      "cell_type": "code",
      "source": [
        "print(\"Final Validation AUC:\", best_val_auc)\n",
        "print(\"Final Test AUC:\", best_test_auc)\n"
      ],
      "metadata": {
        "id": "lVJz3Ly-9uxG",
        "colab": {
          "base_uri": "https://localhost:8080/"
        },
        "outputId": "954ab385-47e8-4152-8082-aea6ab37115f"
      },
      "execution_count": 8,
      "outputs": [
        {
          "metadata": {
            "tags": null
          },
          "name": "stdout",
          "output_type": "stream",
          "text": [
            "Final Validation AUC: 0.994420641721413\n",
            "Final Test AUC: 0.9455402147709842\n"
          ]
        }
      ]
    },
    {
      "cell_type": "code",
      "source": [],
      "metadata": {
        "id": "JLkBG5v0M75p"
      },
      "execution_count": 8,
      "outputs": []
    }
  ],
  "metadata": {
    "colab": {
      "provenance": [],
      "gpuType": "T4"
    },
    "kernelspec": {
      "display_name": "Python 3",
      "name": "python3"
    },
    "language_info": {
      "name": "python"
    },
    "gpuClass": "standard"
  },
  "nbformat": 4,
  "nbformat_minor": 0
}