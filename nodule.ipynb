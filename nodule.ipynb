{
  "cells": [
    {
      "cell_type": "code",
      "execution_count": 1,
      "metadata": {
        "id": "AG-1pMHwodtX",
        "colab": {
          "base_uri": "https://localhost:8080/",
          "height": 89
        },
        "outputId": "23469203-8156-4d44-a175-38fe99ab383f"
      },
      "outputs": [
        {
          "output_type": "execute_result",
          "data": {
            "text/plain": [
              "\"\\n!apt-get --purge remove cuda nvidia* libnvidia-*\\n!dpkg -l | grep cuda- | awk '{print $2}' | xargs -n1 dpkg --purge\\n!apt-get remove cuda-*\\n!apt autoremove\\n!apt-get update\\n!wget https://developer.nvidia.com/compute/cuda/9.2/Prod/local_installers/cuda-repo-ubuntu1604-9-2-local_9.2.88-1_amd64 -O cuda-repo-ubuntu1604-9-2-local_9.2.88-1_amd64.deb\\n!dpkg -i cuda-repo-ubuntu1604-9-2-local_9.2.88-1_amd64.deb\\n!apt-key add /var/cuda-repo-9-2-local/7fa2af80.pub\\n!apt-get update\\n!apt-get install cuda-9.2\\n!pip install git+git://github.com/andreinechaev/nvcc4jupyter.git\\n%load_ext nvcc_plugin\\n\""
            ],
            "application/vnd.google.colaboratory.intrinsic+json": {
              "type": "string"
            }
          },
          "metadata": {},
          "execution_count": 1
        }
      ],
      "source": [
        "\"\"\"\n",
        "!apt-get --purge remove cuda nvidia* libnvidia-*\n",
        "!dpkg -l | grep cuda- | awk '{print $2}' | xargs -n1 dpkg --purge\n",
        "!apt-get remove cuda-*\n",
        "!apt autoremove\n",
        "!apt-get update\n",
        "!wget https://developer.nvidia.com/compute/cuda/9.2/Prod/local_installers/cuda-repo-ubuntu1604-9-2-local_9.2.88-1_amd64 -O cuda-repo-ubuntu1604-9-2-local_9.2.88-1_amd64.deb\n",
        "!dpkg -i cuda-repo-ubuntu1604-9-2-local_9.2.88-1_amd64.deb\n",
        "!apt-key add /var/cuda-repo-9-2-local/7fa2af80.pub\n",
        "!apt-get update\n",
        "!apt-get install cuda-9.2\n",
        "!pip install git+git://github.com/andreinechaev/nvcc4jupyter.git\n",
        "%load_ext nvcc_plugin\n",
        "\"\"\""
      ]
    },
    {
      "cell_type": "code",
      "execution_count": 2,
      "metadata": {
        "colab": {
          "base_uri": "https://localhost:8080/"
        },
        "id": "S2FHMCXFtIXb",
        "outputId": "7fd04390-90df-4720-b75c-578c1e98ebe2"
      },
      "outputs": [
        {
          "output_type": "stream",
          "name": "stdout",
          "text": [
            "Looking in indexes: https://pypi.org/simple, https://us-python.pkg.dev/colab-wheels/public/simple/\n",
            "Collecting libauc==1.2.0\n",
            "  Downloading libauc-1.2.0-py3-none-any.whl (73 kB)\n",
            "\u001b[2K     \u001b[90m━━━━━━━━━━━━━━━━━━━━━━━━━━━━━━━━━━━━━━━━\u001b[0m \u001b[32m73.6/73.6 kB\u001b[0m \u001b[31m2.2 MB/s\u001b[0m eta \u001b[36m0:00:00\u001b[0m\n",
            "\u001b[?25hRequirement already satisfied: torch>=1.2 in /usr/local/lib/python3.10/dist-packages (from libauc==1.2.0) (2.0.0+cu118)\n",
            "Requirement already satisfied: Pillow in /usr/local/lib/python3.10/dist-packages (from libauc==1.2.0) (8.4.0)\n",
            "Requirement already satisfied: numpy in /usr/local/lib/python3.10/dist-packages (from libauc==1.2.0) (1.22.4)\n",
            "Requirement already satisfied: pandas in /usr/local/lib/python3.10/dist-packages (from libauc==1.2.0) (1.5.3)\n",
            "Requirement already satisfied: scikit-image in /usr/local/lib/python3.10/dist-packages (from libauc==1.2.0) (0.19.3)\n",
            "Requirement already satisfied: opencv-python in /usr/local/lib/python3.10/dist-packages (from libauc==1.2.0) (4.7.0.72)\n",
            "Requirement already satisfied: scikit-learn in /usr/local/lib/python3.10/dist-packages (from libauc==1.2.0) (1.2.2)\n",
            "Requirement already satisfied: networkx in /usr/local/lib/python3.10/dist-packages (from torch>=1.2->libauc==1.2.0) (3.1)\n",
            "Requirement already satisfied: filelock in /usr/local/lib/python3.10/dist-packages (from torch>=1.2->libauc==1.2.0) (3.12.0)\n",
            "Requirement already satisfied: triton==2.0.0 in /usr/local/lib/python3.10/dist-packages (from torch>=1.2->libauc==1.2.0) (2.0.0)\n",
            "Requirement already satisfied: typing-extensions in /usr/local/lib/python3.10/dist-packages (from torch>=1.2->libauc==1.2.0) (4.5.0)\n",
            "Requirement already satisfied: jinja2 in /usr/local/lib/python3.10/dist-packages (from torch>=1.2->libauc==1.2.0) (3.1.2)\n",
            "Requirement already satisfied: sympy in /usr/local/lib/python3.10/dist-packages (from torch>=1.2->libauc==1.2.0) (1.11.1)\n",
            "Requirement already satisfied: lit in /usr/local/lib/python3.10/dist-packages (from triton==2.0.0->torch>=1.2->libauc==1.2.0) (16.0.2)\n",
            "Requirement already satisfied: cmake in /usr/local/lib/python3.10/dist-packages (from triton==2.0.0->torch>=1.2->libauc==1.2.0) (3.25.2)\n",
            "Requirement already satisfied: pytz>=2020.1 in /usr/local/lib/python3.10/dist-packages (from pandas->libauc==1.2.0) (2022.7.1)\n",
            "Requirement already satisfied: python-dateutil>=2.8.1 in /usr/local/lib/python3.10/dist-packages (from pandas->libauc==1.2.0) (2.8.2)\n",
            "Requirement already satisfied: scipy>=1.4.1 in /usr/local/lib/python3.10/dist-packages (from scikit-image->libauc==1.2.0) (1.10.1)\n",
            "Requirement already satisfied: PyWavelets>=1.1.1 in /usr/local/lib/python3.10/dist-packages (from scikit-image->libauc==1.2.0) (1.4.1)\n",
            "Requirement already satisfied: imageio>=2.4.1 in /usr/local/lib/python3.10/dist-packages (from scikit-image->libauc==1.2.0) (2.25.1)\n",
            "Requirement already satisfied: tifffile>=2019.7.26 in /usr/local/lib/python3.10/dist-packages (from scikit-image->libauc==1.2.0) (2023.4.12)\n",
            "Requirement already satisfied: packaging>=20.0 in /usr/local/lib/python3.10/dist-packages (from scikit-image->libauc==1.2.0) (23.1)\n",
            "Requirement already satisfied: joblib>=1.1.1 in /usr/local/lib/python3.10/dist-packages (from scikit-learn->libauc==1.2.0) (1.2.0)\n",
            "Requirement already satisfied: threadpoolctl>=2.0.0 in /usr/local/lib/python3.10/dist-packages (from scikit-learn->libauc==1.2.0) (3.1.0)\n",
            "Requirement already satisfied: six>=1.5 in /usr/local/lib/python3.10/dist-packages (from python-dateutil>=2.8.1->pandas->libauc==1.2.0) (1.16.0)\n",
            "Requirement already satisfied: MarkupSafe>=2.0 in /usr/local/lib/python3.10/dist-packages (from jinja2->torch>=1.2->libauc==1.2.0) (2.1.2)\n",
            "Requirement already satisfied: mpmath>=0.19 in /usr/local/lib/python3.10/dist-packages (from sympy->torch>=1.2->libauc==1.2.0) (1.3.0)\n",
            "Installing collected packages: libauc\n",
            "Successfully installed libauc-1.2.0\n",
            "Looking in indexes: https://pypi.org/simple, https://us-python.pkg.dev/colab-wheels/public/simple/\n",
            "Collecting medmnist\n",
            "  Downloading medmnist-2.2.1-py3-none-any.whl (21 kB)\n",
            "Requirement already satisfied: torchvision in /usr/local/lib/python3.10/dist-packages (from medmnist) (0.15.1+cu118)\n",
            "Requirement already satisfied: numpy in /usr/local/lib/python3.10/dist-packages (from medmnist) (1.22.4)\n",
            "Requirement already satisfied: Pillow in /usr/local/lib/python3.10/dist-packages (from medmnist) (8.4.0)\n",
            "Collecting fire\n",
            "  Downloading fire-0.5.0.tar.gz (88 kB)\n",
            "\u001b[2K     \u001b[90m━━━━━━━━━━━━━━━━━━━━━━━━━━━━━━━━━━━━━━━━\u001b[0m \u001b[32m88.3/88.3 kB\u001b[0m \u001b[31m2.8 MB/s\u001b[0m eta \u001b[36m0:00:00\u001b[0m\n",
            "\u001b[?25h  Preparing metadata (setup.py) ... \u001b[?25l\u001b[?25hdone\n",
            "Requirement already satisfied: scikit-image in /usr/local/lib/python3.10/dist-packages (from medmnist) (0.19.3)\n",
            "Requirement already satisfied: tqdm in /usr/local/lib/python3.10/dist-packages (from medmnist) (4.65.0)\n",
            "Requirement already satisfied: torch in /usr/local/lib/python3.10/dist-packages (from medmnist) (2.0.0+cu118)\n",
            "Requirement already satisfied: scikit-learn in /usr/local/lib/python3.10/dist-packages (from medmnist) (1.2.2)\n",
            "Requirement already satisfied: pandas in /usr/local/lib/python3.10/dist-packages (from medmnist) (1.5.3)\n",
            "Requirement already satisfied: six in /usr/local/lib/python3.10/dist-packages (from fire->medmnist) (1.16.0)\n",
            "Requirement already satisfied: termcolor in /usr/local/lib/python3.10/dist-packages (from fire->medmnist) (2.3.0)\n",
            "Requirement already satisfied: python-dateutil>=2.8.1 in /usr/local/lib/python3.10/dist-packages (from pandas->medmnist) (2.8.2)\n",
            "Requirement already satisfied: pytz>=2020.1 in /usr/local/lib/python3.10/dist-packages (from pandas->medmnist) (2022.7.1)\n",
            "Requirement already satisfied: PyWavelets>=1.1.1 in /usr/local/lib/python3.10/dist-packages (from scikit-image->medmnist) (1.4.1)\n",
            "Requirement already satisfied: scipy>=1.4.1 in /usr/local/lib/python3.10/dist-packages (from scikit-image->medmnist) (1.10.1)\n",
            "Requirement already satisfied: networkx>=2.2 in /usr/local/lib/python3.10/dist-packages (from scikit-image->medmnist) (3.1)\n",
            "Requirement already satisfied: imageio>=2.4.1 in /usr/local/lib/python3.10/dist-packages (from scikit-image->medmnist) (2.25.1)\n",
            "Requirement already satisfied: packaging>=20.0 in /usr/local/lib/python3.10/dist-packages (from scikit-image->medmnist) (23.1)\n",
            "Requirement already satisfied: tifffile>=2019.7.26 in /usr/local/lib/python3.10/dist-packages (from scikit-image->medmnist) (2023.4.12)\n",
            "Requirement already satisfied: threadpoolctl>=2.0.0 in /usr/local/lib/python3.10/dist-packages (from scikit-learn->medmnist) (3.1.0)\n",
            "Requirement already satisfied: joblib>=1.1.1 in /usr/local/lib/python3.10/dist-packages (from scikit-learn->medmnist) (1.2.0)\n",
            "Requirement already satisfied: jinja2 in /usr/local/lib/python3.10/dist-packages (from torch->medmnist) (3.1.2)\n",
            "Requirement already satisfied: triton==2.0.0 in /usr/local/lib/python3.10/dist-packages (from torch->medmnist) (2.0.0)\n",
            "Requirement already satisfied: filelock in /usr/local/lib/python3.10/dist-packages (from torch->medmnist) (3.12.0)\n",
            "Requirement already satisfied: typing-extensions in /usr/local/lib/python3.10/dist-packages (from torch->medmnist) (4.5.0)\n",
            "Requirement already satisfied: sympy in /usr/local/lib/python3.10/dist-packages (from torch->medmnist) (1.11.1)\n",
            "Requirement already satisfied: cmake in /usr/local/lib/python3.10/dist-packages (from triton==2.0.0->torch->medmnist) (3.25.2)\n",
            "Requirement already satisfied: lit in /usr/local/lib/python3.10/dist-packages (from triton==2.0.0->torch->medmnist) (16.0.2)\n",
            "Requirement already satisfied: requests in /usr/local/lib/python3.10/dist-packages (from torchvision->medmnist) (2.27.1)\n",
            "Requirement already satisfied: MarkupSafe>=2.0 in /usr/local/lib/python3.10/dist-packages (from jinja2->torch->medmnist) (2.1.2)\n",
            "Requirement already satisfied: urllib3<1.27,>=1.21.1 in /usr/local/lib/python3.10/dist-packages (from requests->torchvision->medmnist) (1.26.15)\n",
            "Requirement already satisfied: charset-normalizer~=2.0.0 in /usr/local/lib/python3.10/dist-packages (from requests->torchvision->medmnist) (2.0.12)\n",
            "Requirement already satisfied: certifi>=2017.4.17 in /usr/local/lib/python3.10/dist-packages (from requests->torchvision->medmnist) (2022.12.7)\n",
            "Requirement already satisfied: idna<4,>=2.5 in /usr/local/lib/python3.10/dist-packages (from requests->torchvision->medmnist) (3.4)\n",
            "Requirement already satisfied: mpmath>=0.19 in /usr/local/lib/python3.10/dist-packages (from sympy->torch->medmnist) (1.3.0)\n",
            "Building wheels for collected packages: fire\n",
            "  Building wheel for fire (setup.py) ... \u001b[?25l\u001b[?25hdone\n",
            "  Created wheel for fire: filename=fire-0.5.0-py2.py3-none-any.whl size=116952 sha256=cb70b40ba7469819f253e4916dd8fab5866be82aec0afcc32c4a16ede9590d03\n",
            "  Stored in directory: /root/.cache/pip/wheels/90/d4/f7/9404e5db0116bd4d43e5666eaa3e70ab53723e1e3ea40c9a95\n",
            "Successfully built fire\n",
            "Installing collected packages: fire, medmnist\n",
            "Successfully installed fire-0.5.0 medmnist-2.2.1\n",
            "Looking in indexes: https://pypi.org/simple, https://us-python.pkg.dev/colab-wheels/public/simple/\n",
            "Collecting tensorboardX\n",
            "  Downloading tensorboardX-2.6-py2.py3-none-any.whl (114 kB)\n",
            "\u001b[2K     \u001b[90m━━━━━━━━━━━━━━━━━━━━━━━━━━━━━━━━━━━━━━━\u001b[0m \u001b[32m114.5/114.5 kB\u001b[0m \u001b[31m3.2 MB/s\u001b[0m eta \u001b[36m0:00:00\u001b[0m\n",
            "\u001b[?25hRequirement already satisfied: protobuf<4,>=3.8.0 in /usr/local/lib/python3.10/dist-packages (from tensorboardX) (3.20.3)\n",
            "Requirement already satisfied: packaging in /usr/local/lib/python3.10/dist-packages (from tensorboardX) (23.1)\n",
            "Requirement already satisfied: numpy in /usr/local/lib/python3.10/dist-packages (from tensorboardX) (1.22.4)\n",
            "Installing collected packages: tensorboardX\n",
            "Successfully installed tensorboardX-2.6\n",
            "Looking in indexes: https://pypi.org/simple, https://us-python.pkg.dev/colab-wheels/public/simple/\n",
            "Collecting acsconv\n",
            "  Downloading ACSConv-0.1.1.tar.gz (15 kB)\n",
            "  Preparing metadata (setup.py) ... \u001b[?25l\u001b[?25hdone\n",
            "Requirement already satisfied: fire in /usr/local/lib/python3.10/dist-packages (from acsconv) (0.5.0)\n",
            "Requirement already satisfied: numpy in /usr/local/lib/python3.10/dist-packages (from acsconv) (1.22.4)\n",
            "Requirement already satisfied: matplotlib in /usr/local/lib/python3.10/dist-packages (from acsconv) (3.7.1)\n",
            "Requirement already satisfied: pandas in /usr/local/lib/python3.10/dist-packages (from acsconv) (1.5.3)\n",
            "Requirement already satisfied: tqdm in /usr/local/lib/python3.10/dist-packages (from acsconv) (4.65.0)\n",
            "Requirement already satisfied: scikit-image in /usr/local/lib/python3.10/dist-packages (from acsconv) (0.19.3)\n",
            "Requirement already satisfied: scikit-learn in /usr/local/lib/python3.10/dist-packages (from acsconv) (1.2.2)\n",
            "Requirement already satisfied: scipy in /usr/local/lib/python3.10/dist-packages (from acsconv) (1.10.1)\n",
            "Requirement already satisfied: tensorboardx in /usr/local/lib/python3.10/dist-packages (from acsconv) (2.6)\n",
            "Requirement already satisfied: torch in /usr/local/lib/python3.10/dist-packages (from acsconv) (2.0.0+cu118)\n",
            "Requirement already satisfied: torchvision in /usr/local/lib/python3.10/dist-packages (from acsconv) (0.15.1+cu118)\n",
            "Requirement already satisfied: termcolor in /usr/local/lib/python3.10/dist-packages (from fire->acsconv) (2.3.0)\n",
            "Requirement already satisfied: six in /usr/local/lib/python3.10/dist-packages (from fire->acsconv) (1.16.0)\n",
            "Requirement already satisfied: contourpy>=1.0.1 in /usr/local/lib/python3.10/dist-packages (from matplotlib->acsconv) (1.0.7)\n",
            "Requirement already satisfied: packaging>=20.0 in /usr/local/lib/python3.10/dist-packages (from matplotlib->acsconv) (23.1)\n",
            "Requirement already satisfied: pillow>=6.2.0 in /usr/local/lib/python3.10/dist-packages (from matplotlib->acsconv) (8.4.0)\n",
            "Requirement already satisfied: pyparsing>=2.3.1 in /usr/local/lib/python3.10/dist-packages (from matplotlib->acsconv) (3.0.9)\n",
            "Requirement already satisfied: python-dateutil>=2.7 in /usr/local/lib/python3.10/dist-packages (from matplotlib->acsconv) (2.8.2)\n",
            "Requirement already satisfied: kiwisolver>=1.0.1 in /usr/local/lib/python3.10/dist-packages (from matplotlib->acsconv) (1.4.4)\n",
            "Requirement already satisfied: fonttools>=4.22.0 in /usr/local/lib/python3.10/dist-packages (from matplotlib->acsconv) (4.39.3)\n",
            "Requirement already satisfied: cycler>=0.10 in /usr/local/lib/python3.10/dist-packages (from matplotlib->acsconv) (0.11.0)\n",
            "Requirement already satisfied: pytz>=2020.1 in /usr/local/lib/python3.10/dist-packages (from pandas->acsconv) (2022.7.1)\n",
            "Requirement already satisfied: tifffile>=2019.7.26 in /usr/local/lib/python3.10/dist-packages (from scikit-image->acsconv) (2023.4.12)\n",
            "Requirement already satisfied: imageio>=2.4.1 in /usr/local/lib/python3.10/dist-packages (from scikit-image->acsconv) (2.25.1)\n",
            "Requirement already satisfied: networkx>=2.2 in /usr/local/lib/python3.10/dist-packages (from scikit-image->acsconv) (3.1)\n",
            "Requirement already satisfied: PyWavelets>=1.1.1 in /usr/local/lib/python3.10/dist-packages (from scikit-image->acsconv) (1.4.1)\n",
            "Requirement already satisfied: threadpoolctl>=2.0.0 in /usr/local/lib/python3.10/dist-packages (from scikit-learn->acsconv) (3.1.0)\n",
            "Requirement already satisfied: joblib>=1.1.1 in /usr/local/lib/python3.10/dist-packages (from scikit-learn->acsconv) (1.2.0)\n",
            "Requirement already satisfied: protobuf<4,>=3.8.0 in /usr/local/lib/python3.10/dist-packages (from tensorboardx->acsconv) (3.20.3)\n",
            "Requirement already satisfied: triton==2.0.0 in /usr/local/lib/python3.10/dist-packages (from torch->acsconv) (2.0.0)\n",
            "Requirement already satisfied: jinja2 in /usr/local/lib/python3.10/dist-packages (from torch->acsconv) (3.1.2)\n",
            "Requirement already satisfied: sympy in /usr/local/lib/python3.10/dist-packages (from torch->acsconv) (1.11.1)\n",
            "Requirement already satisfied: typing-extensions in /usr/local/lib/python3.10/dist-packages (from torch->acsconv) (4.5.0)\n",
            "Requirement already satisfied: filelock in /usr/local/lib/python3.10/dist-packages (from torch->acsconv) (3.12.0)\n",
            "Requirement already satisfied: cmake in /usr/local/lib/python3.10/dist-packages (from triton==2.0.0->torch->acsconv) (3.25.2)\n",
            "Requirement already satisfied: lit in /usr/local/lib/python3.10/dist-packages (from triton==2.0.0->torch->acsconv) (16.0.2)\n",
            "Requirement already satisfied: requests in /usr/local/lib/python3.10/dist-packages (from torchvision->acsconv) (2.27.1)\n",
            "Requirement already satisfied: MarkupSafe>=2.0 in /usr/local/lib/python3.10/dist-packages (from jinja2->torch->acsconv) (2.1.2)\n",
            "Requirement already satisfied: urllib3<1.27,>=1.21.1 in /usr/local/lib/python3.10/dist-packages (from requests->torchvision->acsconv) (1.26.15)\n",
            "Requirement already satisfied: charset-normalizer~=2.0.0 in /usr/local/lib/python3.10/dist-packages (from requests->torchvision->acsconv) (2.0.12)\n",
            "Requirement already satisfied: certifi>=2017.4.17 in /usr/local/lib/python3.10/dist-packages (from requests->torchvision->acsconv) (2022.12.7)\n",
            "Requirement already satisfied: idna<4,>=2.5 in /usr/local/lib/python3.10/dist-packages (from requests->torchvision->acsconv) (3.4)\n",
            "Requirement already satisfied: mpmath>=0.19 in /usr/local/lib/python3.10/dist-packages (from sympy->torch->acsconv) (1.3.0)\n",
            "Building wheels for collected packages: acsconv\n",
            "  Building wheel for acsconv (setup.py) ... \u001b[?25l\u001b[?25hdone\n",
            "  Created wheel for acsconv: filename=ACSConv-0.1.1-py3-none-any.whl size=24201 sha256=5b27f7fad3ccbb52f9e3064d1df1373c96fa344763dc89811336ec65f9b90ba7\n",
            "  Stored in directory: /root/.cache/pip/wheels/0e/b1/ef/43fe6db442ef60fc6a8c7f98f330672eeca58463ebef542e62\n",
            "Successfully built acsconv\n",
            "Installing collected packages: acsconv\n",
            "Successfully installed acsconv-0.1.1\n"
          ]
        }
      ],
      "source": [
        "# Install libAUC and medMNIST\n",
        "!pip install libauc==1.2.0\n",
        "!pip install medmnist\n",
        "!pip install tensorboardX\n",
        "!pip install acsconv"
      ]
    },
    {
      "cell_type": "code",
      "execution_count": 3,
      "metadata": {
        "id": "2ijm1bJttThI",
        "colab": {
          "base_uri": "https://localhost:8080/"
        },
        "outputId": "b0c0b649-db2f-4b1f-f6dc-11296b1413d8"
      },
      "outputs": [
        {
          "output_type": "stream",
          "name": "stdout",
          "text": [
            "The ``converters`` are currently experimental. It may not support operations including (but not limited to) Functions in ``torch.nn.functional`` that involved data dimension\n"
          ]
        }
      ],
      "source": [
        "from tqdm import tqdm\n",
        "import numpy as np\n",
        "import torch\n",
        "import torch.nn as nn\n",
        "import torch.optim as optim\n",
        "import torch.utils.data as data\n",
        "import torchvision.transforms as transforms\n",
        "import medmnist\n",
        "from medmnist import INFO, Evaluator\n",
        "import os\n",
        "import argparse\n",
        "from tqdm import trange\n",
        "import numpy as np\n",
        "import time\n",
        "import torch\n",
        "import torch.nn as nn\n",
        "import torch.optim as optim\n",
        "import torch.utils.data as data\n",
        "import torchvision.transforms as transforms\n",
        "# from tensorboardX import SummaryWriter\n",
        "from collections import OrderedDict\n",
        "import torch\n",
        "import torch.nn as nn\n",
        "import torch.optim as optim\n",
        "import torchvision\n",
        "import torchvision.transforms as transforms\n",
        "from torchvision import transforms, datasets, models\n",
        "from torch.utils.data import DataLoader\n",
        "\n",
        "from libauc.losses import AUCMLoss\n",
        "from libauc.optimizers import PESG\n",
        "from libauc.metrics import auc_roc_score\n",
        "\n",
        "from sklearn.metrics import roc_auc_score\n",
        "from acsconv.converters import Conv3dConverter\n",
        "\n",
        "import os\n",
        "import time\n",
        "from PIL import Image\n",
        "import numpy as np\n",
        "import random\n",
        "\n",
        "random_seed = 41\n",
        "random.seed(random_seed)\n",
        "np.random.seed(random_seed)\n",
        "torch.manual_seed(random_seed)\n",
        "torch.backends.cudnn.deterministic = True\n",
        "torch.backends.cudnn.benchmark = False"
      ]
    },
    {
      "cell_type": "code",
      "execution_count": 4,
      "metadata": {
        "id": "zMCedDg0Zzbs"
      },
      "outputs": [],
      "source": [
        "# Load vesselMNIST3d\n",
        "data_flag = 'nodulemnist3d'\n",
        "download = True\n",
        "as_rgb = True\n",
        "info = INFO[data_flag]\n",
        "task = info['task']\n",
        "n_channels = info['n_channels']\n",
        "n_classes = len(info['label'])\n",
        "DataClass = getattr(medmnist, info['python_class'])"
      ]
    },
    {
      "cell_type": "code",
      "source": [
        "class Transform3D:\n",
        "\n",
        "    def __init__(self, mul=None):\n",
        "        self.mul = mul\n",
        "\n",
        "    def __call__(self, voxel):\n",
        "   \n",
        "        if self.mul == '0.5':\n",
        "            voxel = voxel * 0.5\n",
        "\n",
        "        elif self.mul == 'random':\n",
        "            voxel = voxel * np.random.uniform()\n",
        "        \n",
        "        return voxel.astype(np.float32)"
      ],
      "metadata": {
        "id": "GGdwQ-d4ba4d"
      },
      "execution_count": 5,
      "outputs": []
    },
    {
      "cell_type": "code",
      "execution_count": 6,
      "metadata": {
        "colab": {
          "base_uri": "https://localhost:8080/"
        },
        "id": "mXonz7Y3tVbI",
        "outputId": "d0ab23ae-00ce-4263-85c2-5a2b1431c7dc"
      },
      "outputs": [
        {
          "output_type": "stream",
          "name": "stdout",
          "text": [
            "Downloading https://zenodo.org/record/6496656/files/nodulemnist3d.npz?download=1 to /root/.medmnist/nodulemnist3d.npz\n"
          ]
        },
        {
          "output_type": "stream",
          "name": "stderr",
          "text": [
            "100%|██████████| 29299364/29299364 [00:54<00:00, 542377.38it/s]\n"
          ]
        },
        {
          "output_type": "stream",
          "name": "stdout",
          "text": [
            "Using downloaded and verified file: /root/.medmnist/nodulemnist3d.npz\n",
            "Using downloaded and verified file: /root/.medmnist/nodulemnist3d.npz\n",
            "Using downloaded and verified file: /root/.medmnist/nodulemnist3d.npz\n",
            "Start Training\n",
            "----------------------------------------\n",
            "epoch: 0, train_loss: 15.3355, train_auc: 0.5536, val_auc: 0.5815, test_auc: 0.5655, lr: 0.1000\n",
            "epoch: 1, train_loss: 0.1891, train_auc: 0.5994, val_auc: 0.6529, test_auc: 0.5981, lr: 0.1000\n",
            "epoch: 2, train_loss: 0.1887, train_auc: 0.6157, val_auc: 0.6694, test_auc: 0.6253, lr: 0.1000\n",
            "epoch: 3, train_loss: 0.1769, train_auc: 0.5933, val_auc: 0.6434, test_auc: 0.6007, lr: 0.1000\n",
            "epoch: 4, train_loss: 0.1766, train_auc: 0.6498, val_auc: 0.7019, test_auc: 0.6614, lr: 0.1000\n",
            "epoch: 5, train_loss: 0.1770, train_auc: 0.6163, val_auc: 0.6678, test_auc: 0.6173, lr: 0.1000\n",
            "epoch: 6, train_loss: 0.1771, train_auc: 0.6406, val_auc: 0.6901, test_auc: 0.6616, lr: 0.1000\n",
            "epoch: 7, train_loss: 0.1701, train_auc: 0.5965, val_auc: 0.6297, test_auc: 0.6048, lr: 0.1000\n",
            "epoch: 8, train_loss: 0.1702, train_auc: 0.6132, val_auc: 0.6431, test_auc: 0.6230, lr: 0.1000\n",
            "epoch: 9, train_loss: 0.1767, train_auc: 0.6653, val_auc: 0.7085, test_auc: 0.6900, lr: 0.1000\n",
            "epoch: 10, train_loss: 0.1784, train_auc: 0.7203, val_auc: 0.7801, test_auc: 0.7402, lr: 0.1000\n",
            "epoch: 11, train_loss: 0.1730, train_auc: 0.7569, val_auc: 0.8200, test_auc: 0.7909, lr: 0.1000\n",
            "epoch: 12, train_loss: 0.1641, train_auc: 0.7487, val_auc: 0.7691, test_auc: 0.7818, lr: 0.1000\n",
            "epoch: 13, train_loss: 0.1551, train_auc: 0.7954, val_auc: 0.8324, test_auc: 0.8349, lr: 0.1000\n",
            "epoch: 14, train_loss: 0.1363, train_auc: 0.7939, val_auc: 0.8237, test_auc: 0.8279, lr: 0.1000\n",
            "epoch: 15, train_loss: 0.1291, train_auc: 0.7449, val_auc: 0.7371, test_auc: 0.7669, lr: 0.1000\n",
            "epoch: 16, train_loss: 0.1177, train_auc: 0.7799, val_auc: 0.7753, test_auc: 0.8212, lr: 0.1000\n",
            "epoch: 17, train_loss: 0.0923, train_auc: 0.8655, val_auc: 0.8748, test_auc: 0.8740, lr: 0.1000\n",
            "epoch: 18, train_loss: 0.0843, train_auc: 0.8572, val_auc: 0.8382, test_auc: 0.8657, lr: 0.1000\n",
            "epoch: 19, train_loss: 0.0893, train_auc: 0.8647, val_auc: 0.8475, test_auc: 0.8800, lr: 0.1000\n",
            "epoch: 20, train_loss: 0.0773, train_auc: 0.8777, val_auc: 0.8690, test_auc: 0.8916, lr: 0.1000\n",
            "epoch: 21, train_loss: 0.0802, train_auc: 0.8866, val_auc: 0.8883, test_auc: 0.9007, lr: 0.1000\n",
            "epoch: 22, train_loss: 0.0753, train_auc: 0.8826, val_auc: 0.8343, test_auc: 0.9022, lr: 0.1000\n",
            "epoch: 23, train_loss: 0.0767, train_auc: 0.8434, val_auc: 0.8188, test_auc: 0.8559, lr: 0.1000\n",
            "epoch: 24, train_loss: 0.0801, train_auc: 0.8965, val_auc: 0.8577, test_auc: 0.9047, lr: 0.1000\n",
            "epoch: 25, train_loss: 0.0678, train_auc: 0.9017, val_auc: 0.8844, test_auc: 0.9095, lr: 0.1000\n",
            "epoch: 26, train_loss: 0.0733, train_auc: 0.8429, val_auc: 0.7956, test_auc: 0.8366, lr: 0.1000\n",
            "epoch: 27, train_loss: 0.0830, train_auc: 0.8081, val_auc: 0.7853, test_auc: 0.8314, lr: 0.1000\n",
            "epoch: 28, train_loss: 0.0991, train_auc: 0.8352, val_auc: 0.7793, test_auc: 0.8419, lr: 0.1000\n",
            "epoch: 29, train_loss: 0.0756, train_auc: 0.9066, val_auc: 0.8587, test_auc: 0.9062, lr: 0.1000\n",
            "epoch: 30, train_loss: 0.0656, train_auc: 0.8526, val_auc: 0.8453, test_auc: 0.8569, lr: 0.1000\n",
            "epoch: 31, train_loss: 0.0652, train_auc: 0.9127, val_auc: 0.8500, test_auc: 0.8897, lr: 0.1000\n",
            "No improvement in validation AUC for 10 epochs. Training stopped early.\n"
          ]
        }
      ],
      "source": [
        "random_seed = 41\n",
        "random.seed(random_seed)\n",
        "np.random.seed(random_seed)\n",
        "torch.manual_seed(random_seed)\n",
        "torch.backends.cudnn.deterministic = True\n",
        "torch.backends.cudnn.benchmark = False\n",
        "\n",
        "BATCH_SIZE = 64\n",
        "imratio = 0.1  # for demo\n",
        "total_epochs = 120\n",
        "#decay_epochs = [50, 75]\n",
        "shape_transform = True\n",
        "\n",
        "\n",
        "# Set device\n",
        "# device = torch.device(\"cuda\" if torch.cuda.is_available() else \"cpu\")\n",
        "\n",
        "\"\"\"\n",
        "# Define transformations\n",
        "transform_train = transforms.Compose([\n",
        "    transforms.ToPILImage(), \n",
        "    transforms.RandomHorizontalFlip(),\n",
        "    transforms.RandomRotation(degrees=3),\n",
        "    transforms.ToTensor(),\n",
        "    transforms.Normalize(mean=[0.5], std=[0.5])\n",
        "])\n",
        "\n",
        "transform_test = transforms.Compose([\n",
        "    transforms.ToPILImage(), \n",
        "    transforms.ToTensor(),\n",
        "    transforms.Normalize(mean=[0.5], std=[0.5])\n",
        "])\n",
        "\n",
        "transform_val = transforms.Compose([\n",
        "    transforms.ToPILImage(), \n",
        "    transforms.ToTensor(),\n",
        "    transforms.Normalize(mean=[0.5], std=[0.5])\n",
        "])\n",
        "\"\"\"\n",
        "\n",
        "#Transformations\n",
        "train_transform = Transform3D(mul='random') if shape_transform else Transform3D()\n",
        "eval_transform = Transform3D(mul='0.5') if shape_transform else Transform3D()\n",
        "\n",
        "#Define Datasets\n",
        "train_dataset = DataClass(split='train', transform=train_transform, download=download, as_rgb=as_rgb)\n",
        "train_dataset_at_eval = DataClass(split='train', transform=eval_transform, download=download, as_rgb=as_rgb)\n",
        "val_dataset = DataClass(split='val', transform=eval_transform, download=download, as_rgb=as_rgb)\n",
        "test_dataset = DataClass(split='test', transform=eval_transform, download=download, as_rgb=as_rgb)\n",
        "\n",
        "# Load data\n",
        "train_loader = data.DataLoader(dataset=train_dataset, batch_size=BATCH_SIZE, shuffle=True)\n",
        "train_loader_at_eval = data.DataLoader(dataset=train_dataset_at_eval, batch_size=2*BATCH_SIZE, shuffle=False)\n",
        "val_loader = data.DataLoader(dataset=val_dataset, batch_size=2*BATCH_SIZE, shuffle=False)\n",
        "test_loader = data.DataLoader(dataset=test_dataset, batch_size=2*BATCH_SIZE, shuffle=False)\n",
        "\n",
        "# Instantiate the ResNet-18 3D model and set it to training mode\n",
        "from libauc.models import resnet18 as ResNet18\n",
        "model = ResNet18(pretrained=False)\n",
        "model = model.cuda()\n",
        "model.conv1 = nn.Conv2d(3, 64, kernel_size=3,stride=1, padding=1, bias=False)\n",
        "model = Conv3dConverter(model)\n",
        "\n",
        "num_ftrs = model.fc.in_features\n",
        "model.fc = nn.Sequential(\n",
        "    nn.Linear(num_ftrs, 2)\n",
        ")\n",
        "\n",
        "# Define loss function and optimizer\n",
        "loss_fn = AUCMLoss()\n",
        "optimizer = PESG(model, loss_fn=loss_fn, momentum=0.8, margin=1.0, epoch_decay=0.05, lr=0.1, weight_decay=1e-7)\n",
        "\n",
        "# Set early stopping parameters\n",
        "early_stop_epochs = 10 # Stop if validation AUC does not improve for 10 epochs\n",
        "best_val_auc = 0\n",
        "best_test_auc = 0\n",
        "epochs_since_last_improvement = 0\n",
        "\n",
        "# Training loop\n",
        "print('Start Training')\n",
        "print('-'*40)\n",
        "\n",
        "train_log = []\n",
        "test_log = []\n",
        "val_log = []\n",
        "for epoch in range(total_epochs):\n",
        "    train_loss = []\n",
        "    model = model.cuda()\n",
        "    model.train()\n",
        "    for data, targets in train_loader:\n",
        "        data, targets = data.cuda(), targets.cuda()\n",
        "        y_pred = model(data)\n",
        "        loss = loss_fn(y_pred, targets)\n",
        "        optimizer.zero_grad()\n",
        "        loss.backward()\n",
        "        optimizer.step()\n",
        "        train_loss.append(loss.item())\n",
        "\n",
        "    # Evaluation on train & test sets\n",
        "    model.eval()\n",
        "    train_pred_list = []\n",
        "    train_true_list = []\n",
        "    for train_data, train_targets in train_loader_at_eval:\n",
        "        train_data = train_data.cuda()\n",
        "        train_pred = model(train_data)\n",
        "        train_pred_list.append(train_pred.cpu().detach().numpy())\n",
        "        train_true_list.append(train_targets.numpy())\n",
        "    train_true = np.concatenate(train_true_list)\n",
        "    train_pred = np.concatenate(train_pred_list)\n",
        "    train_auc = auc_roc_score(train_true, train_pred)\n",
        "    train_loss = np.mean(train_loss)\n",
        "\n",
        "    val_pred_list = []\n",
        "    val_true_list = []\n",
        "    for val_data, val_targets in val_loader:\n",
        "         val_data = val_data.cuda()\n",
        "         val_pred = model(val_data)\n",
        "         val_pred_list.append(val_pred.cpu().detach().numpy())\n",
        "         val_true_list.append(val_targets.numpy())\n",
        "    val_true = np.concatenate(val_true_list)\n",
        "    val_pred = np.concatenate(val_pred_list)\n",
        "    val_auc =  auc_roc_score(val_true, val_pred)\n",
        "\n",
        "    test_pred_list = []\n",
        "    test_true_list = []\n",
        "    for test_data, test_targets in test_loader:\n",
        "         test_data = test_data.cuda()\n",
        "         test_pred = model(test_data)\n",
        "         test_pred_list.append(test_pred.cpu().detach().numpy())\n",
        "         test_true_list.append(test_targets.numpy())\n",
        "    test_true = np.concatenate(test_true_list)\n",
        "    test_pred = np.concatenate(test_pred_list)\n",
        "    test_auc =  auc_roc_score(test_true, test_pred) \n",
        "    model.train()\n",
        "\n",
        "    # print results\n",
        "    print(\"epoch: %s, train_loss: %.4f, train_auc: %.4f, val_auc: %.4f, test_auc: %.4f, lr: %.4f\"%(epoch, train_loss, train_auc[0], val_auc[0], test_auc[0], optimizer.lr ))    \n",
        "    train_log.append(train_auc[0]) \n",
        "    test_log.append(test_auc[0])\n",
        "    val_log.append(val_auc[0])\n",
        "\n",
        "    # Check for early stopping\n",
        "    if val_auc[0] > best_val_auc:\n",
        "        best_model = model\n",
        "        best_val_auc = val_auc[0] \n",
        "        best_test_auc = test_auc[0] #Test AUC corresponding to best Val AUC\n",
        "        epochs_since_last_improvement = 0      \n",
        "    else:\n",
        "        epochs_since_last_improvement += 1\n",
        "        if epochs_since_last_improvement >= early_stop_epochs:\n",
        "            print(f\"No improvement in validation AUC for {early_stop_epochs} epochs. Training stopped early.\")\n",
        "            break\n"
      ]
    },
    {
      "cell_type": "code",
      "source": [],
      "metadata": {
        "id": "p7DPkgW0d44w"
      },
      "execution_count": 6,
      "outputs": []
    },
    {
      "cell_type": "code",
      "execution_count": 7,
      "metadata": {
        "colab": {
          "base_uri": "https://localhost:8080/"
        },
        "id": "Ca7sBJVXgc4A",
        "outputId": "a410a63b-8b24-4d5e-d4dc-df00368ba95b"
      },
      "outputs": [
        {
          "output_type": "stream",
          "name": "stdout",
          "text": [
            "Dataset NoduleMNIST3D (nodulemnist3d)\n",
            "    Number of datapoints: 1158\n",
            "    Root location: /root/.medmnist\n",
            "    Split: train\n",
            "    Task: binary-class\n",
            "    Number of channels: 1\n",
            "    Meaning of labels: {'0': 'benign', '1': 'malignant'}\n",
            "    Number of samples: {'train': 1158, 'val': 165, 'test': 310}\n",
            "    Description: The NoduleMNIST3D is based on the LIDC-IDRI, a large public lung nodule dataset, containing images from thoracic CT scans. The dataset is designed for both lung nodule segmentation and 5-level malignancy classification task. To perform binary classification, we categorize cases with malignancy level 1/2 into negative class and 4/5 into positive class, ignoring the cases with malignancy level 3. We split the source dataset with a ratio of 7:1:2 into training, validation and test set, and center-crop the spatially normalized images (with a spacing of 1mm×1mm×1mm) into 28×28×28.\n",
            "    License: CC BY 4.0\n",
            "===================\n",
            "Dataset NoduleMNIST3D (nodulemnist3d)\n",
            "    Number of datapoints: 310\n",
            "    Root location: /root/.medmnist\n",
            "    Split: test\n",
            "    Task: binary-class\n",
            "    Number of channels: 1\n",
            "    Meaning of labels: {'0': 'benign', '1': 'malignant'}\n",
            "    Number of samples: {'train': 1158, 'val': 165, 'test': 310}\n",
            "    Description: The NoduleMNIST3D is based on the LIDC-IDRI, a large public lung nodule dataset, containing images from thoracic CT scans. The dataset is designed for both lung nodule segmentation and 5-level malignancy classification task. To perform binary classification, we categorize cases with malignancy level 1/2 into negative class and 4/5 into positive class, ignoring the cases with malignancy level 3. We split the source dataset with a ratio of 7:1:2 into training, validation and test set, and center-crop the spatially normalized images (with a spacing of 1mm×1mm×1mm) into 28×28×28.\n",
            "    License: CC BY 4.0\n"
          ]
        }
      ],
      "source": [
        "print(train_dataset)\n",
        "print(\"===================\")\n",
        "print(test_dataset)"
      ]
    },
    {
      "cell_type": "code",
      "source": [
        "print(best_test_auc)"
      ],
      "metadata": {
        "colab": {
          "base_uri": "https://localhost:8080/"
        },
        "id": "Xbfd-GPQeA9M",
        "outputId": "b312056d-9687-45ed-dd92-95f47cbbbc3d"
      },
      "execution_count": 8,
      "outputs": [
        {
          "output_type": "stream",
          "name": "stdout",
          "text": [
            "0.900660569105691\n"
          ]
        }
      ]
    },
    {
      "cell_type": "code",
      "source": [
        "state = {\n",
        "    'net': best_model.state_dict(),\n",
        "}\n",
        "\n",
        "output_root = os.path.join('./output', 'noduleMNIST3D', time.strftime(\"%y%m%d_%H%M%S\"))\n",
        "if not os.path.exists(output_root):\n",
        "    os.makedirs(output_root)\n",
        "\n",
        "path = os.path.join(output_root, 'best_model.pth')\n",
        "torch.save(state, path)"
      ],
      "metadata": {
        "id": "pBFE_XqDhNkD"
      },
      "execution_count": 9,
      "outputs": []
    },
    {
      "cell_type": "code",
      "execution_count": 10,
      "metadata": {
        "id": "mD9I83UdaOb0",
        "colab": {
          "base_uri": "https://localhost:8080/",
          "height": 449
        },
        "outputId": "54a98b51-38cd-4988-aea4-71066a07f6e1"
      },
      "outputs": [
        {
          "output_type": "display_data",
          "data": {
            "text/plain": [
              "<Figure size 640x480 with 1 Axes>"
            ],
            "image/png": "[encoded data removed]"
          },
          "metadata": {}
        }
      ],
      "source": [
        "import matplotlib.pyplot as plt\n",
        "\n",
        "plt.plot(train_log, label='Training AUC')\n",
        "plt.plot(val_log, label='Validation AUC')\n",
        "plt.plot(test_log, label='Testing AUC')\n",
        "plt.xlabel('Epochs')\n",
        "plt.ylabel('AUC')\n",
        "plt.legend()\n",
        "plt.show()\n"
      ]
    },
    {
      "cell_type": "code",
      "execution_count": 11,
      "metadata": {
        "id": "lVJz3Ly-9uxG",
        "colab": {
          "base_uri": "https://localhost:8080/"
        },
        "outputId": "611dd474-abf3-4fc5-d1c5-a12e5327907f"
      },
      "outputs": [
        {
          "output_type": "stream",
          "name": "stdout",
          "text": [
            "Final Validation AUC: 0.8883081687959737\n",
            "Final Test AUC: 0.900660569105691\n"
          ]
        }
      ],
      "source": [
        "print(\"Final Validation AUC:\", best_val_auc)\n",
        "print(\"Final Test AUC:\", best_test_auc)\n"
      ]
    }
  ],
  "metadata": {
    "colab": {
      "provenance": [],
      "gpuType": "T4"
    },
    "gpuClass": "standard",
    "kernelspec": {
      "display_name": "Python 3",
      "name": "python3"
    },
    "language_info": {
      "name": "python"
    },
    "accelerator": "GPU"
  },
  "nbformat": 4,
  "nbformat_minor": 0
}