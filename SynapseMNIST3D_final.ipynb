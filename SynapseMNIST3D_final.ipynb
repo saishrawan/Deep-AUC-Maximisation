{
  "metadata": {
    "accelerator": "GPU",
    "colab": {
      "provenance": [],
      "machine_shape": "hm",
      "gpuType": "T4"
    },
    "kernelspec": {
      "name": "python3",
      "display_name": "Python 3",
      "language": "python"
    },
    "language_info": {
      "name": "python",
      "version": "3.10.10",
      "mimetype": "text/x-python",
      "codemirror_mode": {
        "name": "ipython",
        "version": 3
      },
      "pygments_lexer": "ipython3",
      "nbconvert_exporter": "python",
      "file_extension": ".py"
    },
    "gpuClass": "standard"
  },
  "nbformat_minor": 0,
  "nbformat": 4,
  "cells": [
    {
      "cell_type": "markdown",
      "source": [
        "## **Installing LibAUC**\n"
      ],
      "metadata": {
        "id": "efaf1543"
      }
    },
    {
      "cell_type": "code",
      "source": [
        "  ! pip install medmnist\n",
        "  ! pip install libauc==1.2.0\n",
        "  ! pip install tensorboardX\n",
        "  ! pip install acsconv"
      ],
      "metadata": {
        "id": "0hQeospBloJU",
        "execution": {
          "iopub.status.busy": "2023-05-08T12:24:26.087702Z",
          "iopub.execute_input": "2023-05-08T12:24:26.088130Z",
          "iopub.status.idle": "2023-05-08T12:24:26.095850Z",
          "shell.execute_reply.started": "2023-05-08T12:24:26.088095Z",
          "shell.execute_reply": "2023-05-08T12:24:26.093195Z"
        },
        "trusted": true,
        "colab": {
          "base_uri": "https://localhost:8080/"
        },
        "outputId": "a9c0ffd4-c0c2-40bf-9cac-7cfecbaffd60"
      },
      "execution_count": 1,
      "outputs": [
        {
          "output_type": "stream",
          "name": "stdout",
          "text": [
            "Looking in indexes: https://pypi.org/simple, https://us-python.pkg.dev/colab-wheels/public/simple/\n",
            "Collecting medmnist\n",
            "  Downloading medmnist-2.2.1-py3-none-any.whl (21 kB)\n",
            "Requirement already satisfied: numpy in /usr/local/lib/python3.10/dist-packages (from medmnist) (1.22.4)\n",
            "Requirement already satisfied: scikit-learn in /usr/local/lib/python3.10/dist-packages (from medmnist) (1.2.2)\n",
            "Requirement already satisfied: scikit-image in /usr/local/lib/python3.10/dist-packages (from medmnist) (0.19.3)\n",
            "Collecting fire\n",
            "  Downloading fire-0.5.0.tar.gz (88 kB)\n",
            "\u001b[2K     \u001b[90m━━━━━━━━━━━━━━━━━━━━━━━━━━━━━━━━━━━━━━━━\u001b[0m \u001b[32m88.3/88.3 kB\u001b[0m \u001b[31m7.8 MB/s\u001b[0m eta \u001b[36m0:00:00\u001b[0m\n",
            "\u001b[?25h  Preparing metadata (setup.py) ... \u001b[?25l\u001b[?25hdone\n",
            "Requirement already satisfied: torchvision in /usr/local/lib/python3.10/dist-packages (from medmnist) (0.15.1+cu118)\n",
            "Requirement already satisfied: pandas in /usr/local/lib/python3.10/dist-packages (from medmnist) (1.5.3)\n",
            "Requirement already satisfied: Pillow in /usr/local/lib/python3.10/dist-packages (from medmnist) (8.4.0)\n",
            "Requirement already satisfied: torch in /usr/local/lib/python3.10/dist-packages (from medmnist) (2.0.0+cu118)\n",
            "Requirement already satisfied: tqdm in /usr/local/lib/python3.10/dist-packages (from medmnist) (4.65.0)\n",
            "Requirement already satisfied: six in /usr/local/lib/python3.10/dist-packages (from fire->medmnist) (1.16.0)\n",
            "Requirement already satisfied: termcolor in /usr/local/lib/python3.10/dist-packages (from fire->medmnist) (2.3.0)\n",
            "Requirement already satisfied: python-dateutil>=2.8.1 in /usr/local/lib/python3.10/dist-packages (from pandas->medmnist) (2.8.2)\n",
            "Requirement already satisfied: pytz>=2020.1 in /usr/local/lib/python3.10/dist-packages (from pandas->medmnist) (2022.7.1)\n",
            "Requirement already satisfied: scipy>=1.4.1 in /usr/local/lib/python3.10/dist-packages (from scikit-image->medmnist) (1.10.1)\n",
            "Requirement already satisfied: PyWavelets>=1.1.1 in /usr/local/lib/python3.10/dist-packages (from scikit-image->medmnist) (1.4.1)\n",
            "Requirement already satisfied: tifffile>=2019.7.26 in /usr/local/lib/python3.10/dist-packages (from scikit-image->medmnist) (2023.4.12)\n",
            "Requirement already satisfied: packaging>=20.0 in /usr/local/lib/python3.10/dist-packages (from scikit-image->medmnist) (23.1)\n",
            "Requirement already satisfied: networkx>=2.2 in /usr/local/lib/python3.10/dist-packages (from scikit-image->medmnist) (3.1)\n",
            "Requirement already satisfied: imageio>=2.4.1 in /usr/local/lib/python3.10/dist-packages (from scikit-image->medmnist) (2.25.1)\n",
            "Requirement already satisfied: threadpoolctl>=2.0.0 in /usr/local/lib/python3.10/dist-packages (from scikit-learn->medmnist) (3.1.0)\n",
            "Requirement already satisfied: joblib>=1.1.1 in /usr/local/lib/python3.10/dist-packages (from scikit-learn->medmnist) (1.2.0)\n",
            "Requirement already satisfied: typing-extensions in /usr/local/lib/python3.10/dist-packages (from torch->medmnist) (4.5.0)\n",
            "Requirement already satisfied: triton==2.0.0 in /usr/local/lib/python3.10/dist-packages (from torch->medmnist) (2.0.0)\n",
            "Requirement already satisfied: sympy in /usr/local/lib/python3.10/dist-packages (from torch->medmnist) (1.11.1)\n",
            "Requirement already satisfied: jinja2 in /usr/local/lib/python3.10/dist-packages (from torch->medmnist) (3.1.2)\n",
            "Requirement already satisfied: filelock in /usr/local/lib/python3.10/dist-packages (from torch->medmnist) (3.12.0)\n",
            "Requirement already satisfied: cmake in /usr/local/lib/python3.10/dist-packages (from triton==2.0.0->torch->medmnist) (3.25.2)\n",
            "Requirement already satisfied: lit in /usr/local/lib/python3.10/dist-packages (from triton==2.0.0->torch->medmnist) (16.0.2)\n",
            "Requirement already satisfied: requests in /usr/local/lib/python3.10/dist-packages (from torchvision->medmnist) (2.27.1)\n",
            "Requirement already satisfied: MarkupSafe>=2.0 in /usr/local/lib/python3.10/dist-packages (from jinja2->torch->medmnist) (2.1.2)\n",
            "Requirement already satisfied: certifi>=2017.4.17 in /usr/local/lib/python3.10/dist-packages (from requests->torchvision->medmnist) (2022.12.7)\n",
            "Requirement already satisfied: charset-normalizer~=2.0.0 in /usr/local/lib/python3.10/dist-packages (from requests->torchvision->medmnist) (2.0.12)\n",
            "Requirement already satisfied: idna<4,>=2.5 in /usr/local/lib/python3.10/dist-packages (from requests->torchvision->medmnist) (3.4)\n",
            "Requirement already satisfied: urllib3<1.27,>=1.21.1 in /usr/local/lib/python3.10/dist-packages (from requests->torchvision->medmnist) (1.26.15)\n",
            "Requirement already satisfied: mpmath>=0.19 in /usr/local/lib/python3.10/dist-packages (from sympy->torch->medmnist) (1.3.0)\n",
            "Building wheels for collected packages: fire\n",
            "  Building wheel for fire (setup.py) ... \u001b[?25l\u001b[?25hdone\n",
            "  Created wheel for fire: filename=fire-0.5.0-py2.py3-none-any.whl size=116952 sha256=47e0688f1963ed32f9ac3f425ff4d5f24527a715200311ea72c7a89725935e8f\n",
            "  Stored in directory: /root/.cache/pip/wheels/90/d4/f7/9404e5db0116bd4d43e5666eaa3e70ab53723e1e3ea40c9a95\n",
            "Successfully built fire\n",
            "Installing collected packages: fire, medmnist\n",
            "Successfully installed fire-0.5.0 medmnist-2.2.1\n",
            "Looking in indexes: https://pypi.org/simple, https://us-python.pkg.dev/colab-wheels/public/simple/\n",
            "Collecting libauc==1.2.0\n",
            "  Downloading libauc-1.2.0-py3-none-any.whl (73 kB)\n",
            "\u001b[2K     \u001b[90m━━━━━━━━━━━━━━━━━━━━━━━━━━━━━━━━━━━━━━━━\u001b[0m \u001b[32m73.6/73.6 kB\u001b[0m \u001b[31m6.3 MB/s\u001b[0m eta \u001b[36m0:00:00\u001b[0m\n",
            "\u001b[?25hRequirement already satisfied: opencv-python in /usr/local/lib/python3.10/dist-packages (from libauc==1.2.0) (4.7.0.72)\n",
            "Requirement already satisfied: scikit-image in /usr/local/lib/python3.10/dist-packages (from libauc==1.2.0) (0.19.3)\n",
            "Requirement already satisfied: scikit-learn in /usr/local/lib/python3.10/dist-packages (from libauc==1.2.0) (1.2.2)\n",
            "Requirement already satisfied: Pillow in /usr/local/lib/python3.10/dist-packages (from libauc==1.2.0) (8.4.0)\n",
            "Requirement already satisfied: pandas in /usr/local/lib/python3.10/dist-packages (from libauc==1.2.0) (1.5.3)\n",
            "Requirement already satisfied: torch>=1.2 in /usr/local/lib/python3.10/dist-packages (from libauc==1.2.0) (2.0.0+cu118)\n",
            "Requirement already satisfied: numpy in /usr/local/lib/python3.10/dist-packages (from libauc==1.2.0) (1.22.4)\n",
            "Requirement already satisfied: filelock in /usr/local/lib/python3.10/dist-packages (from torch>=1.2->libauc==1.2.0) (3.12.0)\n",
            "Requirement already satisfied: sympy in /usr/local/lib/python3.10/dist-packages (from torch>=1.2->libauc==1.2.0) (1.11.1)\n",
            "Requirement already satisfied: jinja2 in /usr/local/lib/python3.10/dist-packages (from torch>=1.2->libauc==1.2.0) (3.1.2)\n",
            "Requirement already satisfied: typing-extensions in /usr/local/lib/python3.10/dist-packages (from torch>=1.2->libauc==1.2.0) (4.5.0)\n",
            "Requirement already satisfied: triton==2.0.0 in /usr/local/lib/python3.10/dist-packages (from torch>=1.2->libauc==1.2.0) (2.0.0)\n",
            "Requirement already satisfied: networkx in /usr/local/lib/python3.10/dist-packages (from torch>=1.2->libauc==1.2.0) (3.1)\n",
            "Requirement already satisfied: lit in /usr/local/lib/python3.10/dist-packages (from triton==2.0.0->torch>=1.2->libauc==1.2.0) (16.0.2)\n",
            "Requirement already satisfied: cmake in /usr/local/lib/python3.10/dist-packages (from triton==2.0.0->torch>=1.2->libauc==1.2.0) (3.25.2)\n",
            "Requirement already satisfied: pytz>=2020.1 in /usr/local/lib/python3.10/dist-packages (from pandas->libauc==1.2.0) (2022.7.1)\n",
            "Requirement already satisfied: python-dateutil>=2.8.1 in /usr/local/lib/python3.10/dist-packages (from pandas->libauc==1.2.0) (2.8.2)\n",
            "Requirement already satisfied: scipy>=1.4.1 in /usr/local/lib/python3.10/dist-packages (from scikit-image->libauc==1.2.0) (1.10.1)\n",
            "Requirement already satisfied: packaging>=20.0 in /usr/local/lib/python3.10/dist-packages (from scikit-image->libauc==1.2.0) (23.1)\n",
            "Requirement already satisfied: imageio>=2.4.1 in /usr/local/lib/python3.10/dist-packages (from scikit-image->libauc==1.2.0) (2.25.1)\n",
            "Requirement already satisfied: PyWavelets>=1.1.1 in /usr/local/lib/python3.10/dist-packages (from scikit-image->libauc==1.2.0) (1.4.1)\n",
            "Requirement already satisfied: tifffile>=2019.7.26 in /usr/local/lib/python3.10/dist-packages (from scikit-image->libauc==1.2.0) (2023.4.12)\n",
            "Requirement already satisfied: joblib>=1.1.1 in /usr/local/lib/python3.10/dist-packages (from scikit-learn->libauc==1.2.0) (1.2.0)\n",
            "Requirement already satisfied: threadpoolctl>=2.0.0 in /usr/local/lib/python3.10/dist-packages (from scikit-learn->libauc==1.2.0) (3.1.0)\n",
            "Requirement already satisfied: six>=1.5 in /usr/local/lib/python3.10/dist-packages (from python-dateutil>=2.8.1->pandas->libauc==1.2.0) (1.16.0)\n",
            "Requirement already satisfied: MarkupSafe>=2.0 in /usr/local/lib/python3.10/dist-packages (from jinja2->torch>=1.2->libauc==1.2.0) (2.1.2)\n",
            "Requirement already satisfied: mpmath>=0.19 in /usr/local/lib/python3.10/dist-packages (from sympy->torch>=1.2->libauc==1.2.0) (1.3.0)\n",
            "Installing collected packages: libauc\n",
            "Successfully installed libauc-1.2.0\n",
            "Looking in indexes: https://pypi.org/simple, https://us-python.pkg.dev/colab-wheels/public/simple/\n",
            "Collecting tensorboardX\n",
            "  Downloading tensorboardX-2.6-py2.py3-none-any.whl (114 kB)\n",
            "\u001b[2K     \u001b[90m━━━━━━━━━━━━━━━━━━━━━━━━━━━━━━━━━━━━━━━\u001b[0m \u001b[32m114.5/114.5 kB\u001b[0m \u001b[31m8.0 MB/s\u001b[0m eta \u001b[36m0:00:00\u001b[0m\n",
            "\u001b[?25hRequirement already satisfied: packaging in /usr/local/lib/python3.10/dist-packages (from tensorboardX) (23.1)\n",
            "Requirement already satisfied: numpy in /usr/local/lib/python3.10/dist-packages (from tensorboardX) (1.22.4)\n",
            "Requirement already satisfied: protobuf<4,>=3.8.0 in /usr/local/lib/python3.10/dist-packages (from tensorboardX) (3.20.3)\n",
            "Installing collected packages: tensorboardX\n",
            "Successfully installed tensorboardX-2.6\n",
            "Looking in indexes: https://pypi.org/simple, https://us-python.pkg.dev/colab-wheels/public/simple/\n",
            "Collecting acsconv\n",
            "  Downloading ACSConv-0.1.1.tar.gz (15 kB)\n",
            "  Preparing metadata (setup.py) ... \u001b[?25l\u001b[?25hdone\n",
            "Requirement already satisfied: fire in /usr/local/lib/python3.10/dist-packages (from acsconv) (0.5.0)\n",
            "Requirement already satisfied: numpy in /usr/local/lib/python3.10/dist-packages (from acsconv) (1.22.4)\n",
            "Requirement already satisfied: matplotlib in /usr/local/lib/python3.10/dist-packages (from acsconv) (3.7.1)\n",
            "Requirement already satisfied: pandas in /usr/local/lib/python3.10/dist-packages (from acsconv) (1.5.3)\n",
            "Requirement already satisfied: tqdm in /usr/local/lib/python3.10/dist-packages (from acsconv) (4.65.0)\n",
            "Requirement already satisfied: scikit-image in /usr/local/lib/python3.10/dist-packages (from acsconv) (0.19.3)\n",
            "Requirement already satisfied: scikit-learn in /usr/local/lib/python3.10/dist-packages (from acsconv) (1.2.2)\n",
            "Requirement already satisfied: scipy in /usr/local/lib/python3.10/dist-packages (from acsconv) (1.10.1)\n",
            "Requirement already satisfied: tensorboardx in /usr/local/lib/python3.10/dist-packages (from acsconv) (2.6)\n",
            "Requirement already satisfied: torch in /usr/local/lib/python3.10/dist-packages (from acsconv) (2.0.0+cu118)\n",
            "Requirement already satisfied: torchvision in /usr/local/lib/python3.10/dist-packages (from acsconv) (0.15.1+cu118)\n",
            "Requirement already satisfied: termcolor in /usr/local/lib/python3.10/dist-packages (from fire->acsconv) (2.3.0)\n",
            "Requirement already satisfied: six in /usr/local/lib/python3.10/dist-packages (from fire->acsconv) (1.16.0)\n",
            "Requirement already satisfied: fonttools>=4.22.0 in /usr/local/lib/python3.10/dist-packages (from matplotlib->acsconv) (4.39.3)\n",
            "Requirement already satisfied: pyparsing>=2.3.1 in /usr/local/lib/python3.10/dist-packages (from matplotlib->acsconv) (3.0.9)\n",
            "Requirement already satisfied: cycler>=0.10 in /usr/local/lib/python3.10/dist-packages (from matplotlib->acsconv) (0.11.0)\n",
            "Requirement already satisfied: contourpy>=1.0.1 in /usr/local/lib/python3.10/dist-packages (from matplotlib->acsconv) (1.0.7)\n",
            "Requirement already satisfied: kiwisolver>=1.0.1 in /usr/local/lib/python3.10/dist-packages (from matplotlib->acsconv) (1.4.4)\n",
            "Requirement already satisfied: packaging>=20.0 in /usr/local/lib/python3.10/dist-packages (from matplotlib->acsconv) (23.1)\n",
            "Requirement already satisfied: python-dateutil>=2.7 in /usr/local/lib/python3.10/dist-packages (from matplotlib->acsconv) (2.8.2)\n",
            "Requirement already satisfied: pillow>=6.2.0 in /usr/local/lib/python3.10/dist-packages (from matplotlib->acsconv) (8.4.0)\n",
            "Requirement already satisfied: pytz>=2020.1 in /usr/local/lib/python3.10/dist-packages (from pandas->acsconv) (2022.7.1)\n",
            "Requirement already satisfied: tifffile>=2019.7.26 in /usr/local/lib/python3.10/dist-packages (from scikit-image->acsconv) (2023.4.12)\n",
            "Requirement already satisfied: imageio>=2.4.1 in /usr/local/lib/python3.10/dist-packages (from scikit-image->acsconv) (2.25.1)\n",
            "Requirement already satisfied: networkx>=2.2 in /usr/local/lib/python3.10/dist-packages (from scikit-image->acsconv) (3.1)\n",
            "Requirement already satisfied: PyWavelets>=1.1.1 in /usr/local/lib/python3.10/dist-packages (from scikit-image->acsconv) (1.4.1)\n",
            "Requirement already satisfied: threadpoolctl>=2.0.0 in /usr/local/lib/python3.10/dist-packages (from scikit-learn->acsconv) (3.1.0)\n",
            "Requirement already satisfied: joblib>=1.1.1 in /usr/local/lib/python3.10/dist-packages (from scikit-learn->acsconv) (1.2.0)\n",
            "Requirement already satisfied: protobuf<4,>=3.8.0 in /usr/local/lib/python3.10/dist-packages (from tensorboardx->acsconv) (3.20.3)\n",
            "Requirement already satisfied: typing-extensions in /usr/local/lib/python3.10/dist-packages (from torch->acsconv) (4.5.0)\n",
            "Requirement already satisfied: filelock in /usr/local/lib/python3.10/dist-packages (from torch->acsconv) (3.12.0)\n",
            "Requirement already satisfied: jinja2 in /usr/local/lib/python3.10/dist-packages (from torch->acsconv) (3.1.2)\n",
            "Requirement already satisfied: triton==2.0.0 in /usr/local/lib/python3.10/dist-packages (from torch->acsconv) (2.0.0)\n",
            "Requirement already satisfied: sympy in /usr/local/lib/python3.10/dist-packages (from torch->acsconv) (1.11.1)\n",
            "Requirement already satisfied: lit in /usr/local/lib/python3.10/dist-packages (from triton==2.0.0->torch->acsconv) (16.0.2)\n",
            "Requirement already satisfied: cmake in /usr/local/lib/python3.10/dist-packages (from triton==2.0.0->torch->acsconv) (3.25.2)\n",
            "Requirement already satisfied: requests in /usr/local/lib/python3.10/dist-packages (from torchvision->acsconv) (2.27.1)\n",
            "Requirement already satisfied: MarkupSafe>=2.0 in /usr/local/lib/python3.10/dist-packages (from jinja2->torch->acsconv) (2.1.2)\n",
            "Requirement already satisfied: charset-normalizer~=2.0.0 in /usr/local/lib/python3.10/dist-packages (from requests->torchvision->acsconv) (2.0.12)\n",
            "Requirement already satisfied: urllib3<1.27,>=1.21.1 in /usr/local/lib/python3.10/dist-packages (from requests->torchvision->acsconv) (1.26.15)\n",
            "Requirement already satisfied: certifi>=2017.4.17 in /usr/local/lib/python3.10/dist-packages (from requests->torchvision->acsconv) (2022.12.7)\n",
            "Requirement already satisfied: idna<4,>=2.5 in /usr/local/lib/python3.10/dist-packages (from requests->torchvision->acsconv) (3.4)\n",
            "Requirement already satisfied: mpmath>=0.19 in /usr/local/lib/python3.10/dist-packages (from sympy->torch->acsconv) (1.3.0)\n",
            "Building wheels for collected packages: acsconv\n",
            "  Building wheel for acsconv (setup.py) ... \u001b[?25l\u001b[?25hdone\n",
            "  Created wheel for acsconv: filename=ACSConv-0.1.1-py3-none-any.whl size=24201 sha256=1044f4492e0be11f7c4b97c982d6ed3748c0e56b4690c80a75ae1f4ef412db6c\n",
            "  Stored in directory: /root/.cache/pip/wheels/0e/b1/ef/43fe6db442ef60fc6a8c7f98f330672eeca58463ebef542e62\n",
            "Successfully built acsconv\n",
            "Installing collected packages: acsconv\n",
            "Successfully installed acsconv-0.1.1\n"
          ]
        }
      ]
    },
    {
      "cell_type": "markdown",
      "source": [
        "# **Importing Libraries**\n"
      ],
      "metadata": {
        "id": "TYTvudnlQMEX"
      }
    },
    {
      "cell_type": "code",
      "source": [
        "import os\n",
        "import time\n",
        "from PIL import Image\n",
        "import numpy as np\n",
        "import random\n",
        "\n",
        "from libauc.losses import AUCMLoss\n",
        "from libauc.optimizers import PESG\n",
        "from libauc.models import resnet20 as ResNet20\n",
        "from libauc.models import resnet18 as ResNet18\n",
        "from libauc.utils import ImbalancedDataGenerator\n",
        "from libauc.sampler import DualSampler\n",
        "from libauc.metrics import auc_roc_score\n",
        "\n",
        "import medmnist\n",
        "from medmnist import SynapseMNIST3D\n",
        "from medmnist import INFO, Evaluator\n",
        "import torch.utils.data as data\n",
        "\n",
        "import torch \n",
        "import torch.nn as nn\n",
        "import torchvision.transforms as transforms\n",
        "from torch.utils.data import Dataset, DataLoader\n",
        "\n",
        "from sklearn import metrics\n",
        "from sklearn.metrics import accuracy_score\n",
        "from sklearn.metrics import roc_auc_score\n",
        "from acsconv.converters import Conv3dConverter\n",
        "\n",
        "\n",
        "import warnings\n",
        "warnings.filterwarnings('ignore')"
      ],
      "metadata": {
        "id": "HBdrV5mOV9ze",
        "execution": {
          "iopub.status.busy": "2023-05-08T12:24:26.097989Z",
          "iopub.execute_input": "2023-05-08T12:24:26.098634Z",
          "iopub.status.idle": "2023-05-08T12:24:26.107209Z",
          "shell.execute_reply.started": "2023-05-08T12:24:26.098603Z",
          "shell.execute_reply": "2023-05-08T12:24:26.106353Z"
        },
        "trusted": true,
        "colab": {
          "base_uri": "https://localhost:8080/"
        },
        "outputId": "7dc2b6b1-0847-44df-f86f-5a972537c427"
      },
      "execution_count": 2,
      "outputs": [
        {
          "output_type": "stream",
          "name": "stdout",
          "text": [
            "The ``converters`` are currently experimental. It may not support operations including (but not limited to) Functions in ``torch.nn.functional`` that involved data dimension\n"
          ]
        }
      ]
    },
    {
      "cell_type": "markdown",
      "source": [
        "## **Reproducibility**\n",
        "\n"
      ],
      "metadata": {
        "id": "c4gWa0Yisyoi"
      }
    },
    {
      "cell_type": "code",
      "source": [
        "random_seed = 123\n",
        "random.seed(random_seed)\n",
        "np.random.seed(random_seed)\n",
        "torch.manual_seed(random_seed)\n",
        "torch.backends.cudnn.deterministic = True\n",
        "torch.backends.cudnn.benchmark = False"
      ],
      "metadata": {
        "id": "glsgJdAKsyoi",
        "execution": {
          "iopub.status.busy": "2023-05-08T12:24:26.108691Z",
          "iopub.execute_input": "2023-05-08T12:24:26.109510Z",
          "iopub.status.idle": "2023-05-08T12:24:26.125020Z",
          "shell.execute_reply.started": "2023-05-08T12:24:26.109472Z",
          "shell.execute_reply": "2023-05-08T12:24:26.124049Z"
        },
        "trusted": true
      },
      "execution_count": 3,
      "outputs": []
    },
    {
      "cell_type": "code",
      "source": [
        "class Transform3D:\n",
        "\n",
        "    def __init__(self, mul=None, flip=False):\n",
        "        self.mul = mul\n",
        "        self.flip = flip\n",
        "\n",
        "    def __call__(self, voxel):\n",
        "   \n",
        "        if self.flip:\n",
        "            # Randomly flip along each axis\n",
        "            voxel = np.flip(voxel, axis=random.randint(0, 2))\n",
        "\n",
        "        if self.mul == '0.5':\n",
        "            voxel = voxel * 0.5\n",
        "\n",
        "        elif self.mul == 'random':\n",
        "            voxel = voxel * np.random.uniform()\n",
        "\n",
        "        return voxel.astype(np.float32)\n"
      ],
      "metadata": {
        "id": "1xavOlaCV5hp",
        "execution": {
          "iopub.status.busy": "2023-05-08T12:24:26.127766Z",
          "iopub.execute_input": "2023-05-08T12:24:26.128195Z",
          "iopub.status.idle": "2023-05-08T12:24:26.136664Z",
          "shell.execute_reply.started": "2023-05-08T12:24:26.128164Z",
          "shell.execute_reply": "2023-05-08T12:24:26.135849Z"
        },
        "trusted": true
      },
      "execution_count": 4,
      "outputs": []
    },
    {
      "cell_type": "markdown",
      "source": [
        "# **Paramaters**"
      ],
      "metadata": {
        "id": "YjTW36iTQ60Q"
      }
    },
    {
      "cell_type": "code",
      "source": [
        "# HyperParameters\n",
        "\n",
        "lr = 0.1\n",
        "margin = 1.0\n",
        "epoch_decay = 0.03\n",
        "weight_decay = 0.0001\n",
        "BATCH_SIZE=64\n",
        "momentum=0.9\n",
        "shape_transform = True\n",
        "total_epochs = 100 \n",
        "decay_epochs = [50, 75]"
      ],
      "metadata": {
        "id": "STRhOR7YQ4_r",
        "execution": {
          "iopub.status.busy": "2023-05-08T12:24:26.153251Z",
          "iopub.execute_input": "2023-05-08T12:24:26.153563Z",
          "iopub.status.idle": "2023-05-08T12:24:26.167662Z",
          "shell.execute_reply.started": "2023-05-08T12:24:26.153541Z",
          "shell.execute_reply": "2023-05-08T12:24:26.166795Z"
        },
        "trusted": true
      },
      "execution_count": 5,
      "outputs": []
    },
    {
      "cell_type": "markdown",
      "source": [
        "# **Loading datasets**"
      ],
      "metadata": {
        "id": "5fgzICg5Q-RE"
      }
    },
    {
      "cell_type": "code",
      "source": [
        "# Load SynapseMNIST3D\n",
        "data_flag = 'synapsemnist3d'\n",
        "download = True\n",
        "as_rgb = True\n",
        "info = INFO[data_flag]\n",
        "task = info['task']\n",
        "n_channels = info['n_channels']\n",
        "n_classes = len(info['label'])\n",
        "DataClass = getattr(medmnist, info['python_class'])\n",
        "info"
      ],
      "metadata": {
        "execution": {
          "iopub.status.busy": "2023-05-08T12:24:26.252137Z",
          "iopub.execute_input": "2023-05-08T12:24:26.253183Z",
          "iopub.status.idle": "2023-05-08T12:24:26.263408Z",
          "shell.execute_reply.started": "2023-05-08T12:24:26.253150Z",
          "shell.execute_reply": "2023-05-08T12:24:26.262593Z"
        },
        "trusted": true,
        "id": "8lv-N-jnszCz",
        "outputId": "8c901537-66bf-4b46-cd48-f3e781c3938e",
        "colab": {
          "base_uri": "https://localhost:8080/"
        }
      },
      "execution_count": 6,
      "outputs": [
        {
          "output_type": "execute_result",
          "data": {
            "text/plain": [
              "{'python_class': 'SynapseMNIST3D',\n",
              " 'description': 'The SynapseMNIST3D is a new 3D volume dataset to classify whether a synapse is excitatory or inhibitory. It uses a 3D image volume of an adult rat acquired by a multi-beam scanning electron microscope. The original data is of the size 100×100×100um^3 and the resolution 8×8×30nm^3, where a (30um)^3 sub-volume was used in the MitoEM dataset with dense 3D mitochondria instance segmentation labels. Three neuroscience experts segment a pyramidal neuron within the whole volume and proofread all the synapses on this neuron with excitatory/inhibitory labels. For each labeled synaptic location, we crop a 3D volume of 1024×1024×1024nm^3 and resize it into 28×28×28 voxels. Finally, the dataset is randomly split with a ratio of 7:1:2 into training, validation and test set.',\n",
              " 'url': 'https://zenodo.org/record/6496656/files/synapsemnist3d.npz?download=1',\n",
              " 'MD5': '1235b78a3cd6280881dd7850a78eadb6',\n",
              " 'task': 'binary-class',\n",
              " 'label': {'0': 'inhibitory synapse', '1': 'excitatory synapse'},\n",
              " 'n_channels': 1,\n",
              " 'n_samples': {'train': 1230, 'val': 177, 'test': 352},\n",
              " 'license': 'CC BY 4.0'}"
            ]
          },
          "metadata": {},
          "execution_count": 6
        }
      ]
    },
    {
      "cell_type": "code",
      "source": [
        "# Transformations\n",
        "train_transform = Transform3D(mul='random', flip=True) if shape_transform else Transform3D()\n",
        "eval_transform = Transform3D(mul='0.5') if shape_transform else Transform3D()\n",
        "\n",
        "# Define Datasets\n",
        "train_dataset = DataClass(split='train', transform=train_transform, download=download, as_rgb=as_rgb)\n",
        "train_dataset_at_eval = DataClass(split='train', transform=eval_transform, download=download, as_rgb=as_rgb)\n",
        "val_dataset = DataClass(split='val', transform=eval_transform, download=download, as_rgb=as_rgb)\n",
        "test_dataset = DataClass(split='test', transform=eval_transform, download=download, as_rgb=as_rgb)\n",
        "\n",
        "# Load data\n",
        "trainloader = data.DataLoader(dataset=train_dataset, batch_size=BATCH_SIZE, shuffle=True)\n",
        "trainloader_eval = data.DataLoader(dataset=train_dataset_at_eval, batch_size=2*BATCH_SIZE, shuffle=False)\n",
        "val_loader = data.DataLoader(dataset=val_dataset, batch_size=2*BATCH_SIZE, shuffle=False)\n",
        "testloader = data.DataLoader(dataset=test_dataset, batch_size=2*BATCH_SIZE, shuffle=False)\n"
      ],
      "metadata": {
        "colab": {
          "base_uri": "https://localhost:8080/"
        },
        "id": "UU7AV3dWWSip",
        "outputId": "9430087f-d444-4963-f8d6-7c921891130a",
        "execution": {
          "iopub.status.busy": "2023-05-08T12:24:26.264978Z",
          "iopub.execute_input": "2023-05-08T12:24:26.265860Z",
          "iopub.status.idle": "2023-05-08T12:24:26.978964Z",
          "shell.execute_reply.started": "2023-05-08T12:24:26.265831Z",
          "shell.execute_reply": "2023-05-08T12:24:26.977991Z"
        },
        "trusted": true
      },
      "execution_count": 7,
      "outputs": [
        {
          "output_type": "stream",
          "name": "stdout",
          "text": [
            "Downloading https://zenodo.org/record/6496656/files/synapsemnist3d.npz?download=1 to /root/.medmnist/synapsemnist3d.npz\n"
          ]
        },
        {
          "output_type": "stream",
          "name": "stderr",
          "text": [
            "100%|██████████| 38034583/38034583 [00:06<00:00, 5606017.39it/s]\n"
          ]
        },
        {
          "output_type": "stream",
          "name": "stdout",
          "text": [
            "Using downloaded and verified file: /root/.medmnist/synapsemnist3d.npz\n",
            "Using downloaded and verified file: /root/.medmnist/synapsemnist3d.npz\n",
            "Using downloaded and verified file: /root/.medmnist/synapsemnist3d.npz\n"
          ]
        }
      ]
    },
    {
      "cell_type": "markdown",
      "source": [
        "# **Creating models & AUC Optimizer**"
      ],
      "metadata": {
        "id": "_MrH548IRDIc"
      }
    },
    {
      "cell_type": "code",
      "source": [
        "# You can include sigmoid/l2 activations on model's outputs before computing loss\n",
        "\n",
        "model = ResNet18(pretrained=False, last_activation=None) \n",
        "model.conv1 = nn.Conv2d(3, 64, kernel_size=3,stride=1, padding=1, bias=False)\n",
        "model = Conv3dConverter(model)\n",
        "model = model.cuda()\n",
        "loss_fn = AUCMLoss()\n",
        "optimizer = PESG(model, \n",
        "                 loss_fn=loss_fn,\n",
        "                 lr=lr, \n",
        "                 momentum=momentum,\n",
        "                 margin=margin, \n",
        "                 epoch_decay=epoch_decay, \n",
        "                 weight_decay=weight_decay)"
      ],
      "metadata": {
        "id": "cFxB8QblRCt5",
        "execution": {
          "iopub.status.busy": "2023-05-08T12:24:26.980567Z",
          "iopub.execute_input": "2023-05-08T12:24:26.980917Z",
          "iopub.status.idle": "2023-05-08T12:24:27.833219Z",
          "shell.execute_reply.started": "2023-05-08T12:24:26.980886Z",
          "shell.execute_reply": "2023-05-08T12:24:27.832230Z"
        },
        "trusted": true
      },
      "execution_count": 8,
      "outputs": []
    },
    {
      "cell_type": "markdown",
      "source": [
        "# **Training**"
      ],
      "metadata": {
        "id": "fG5VXXEIRfw3"
      }
    },
    {
      "cell_type": "code",
      "source": [
        "print ('Start Training')\n",
        "print ('-'*30)\n",
        "\n",
        "best_val_auc = 0\n",
        "best_model = model\n",
        "\n",
        "train_log = []\n",
        "test_log = []\n",
        "\n",
        "for epoch in range(total_epochs):\n",
        "     if epoch in decay_epochs:\n",
        "         optimizer.update_regularizer(decay_factor=10) # decrease learning rate by 10x & update regularizer\n",
        "   \n",
        "     # TRAINING   \n",
        "     train_loss = []\n",
        "     model.train()    \n",
        "     for train_data, train_targets in trainloader:\n",
        "         train_data, train_targets  = train_data.cuda(), train_targets.cuda()\n",
        "         y_pred = model(train_data)\n",
        "         y_pred = torch.sigmoid(y_pred)\n",
        "         loss = loss_fn(y_pred, train_targets)\n",
        "         optimizer.zero_grad()\n",
        "         loss.backward()\n",
        "         optimizer.step()\n",
        "         train_loss.append(loss.item())\n",
        "    \n",
        "     epoch_loss = np.mean(train_loss)\n",
        "\n",
        "     # VALIDATION\n",
        "     with torch.no_grad():\n",
        "        model.eval()\n",
        "        val_pred_list = []\n",
        "        val_true_list = []\n",
        "        for val_data, val_targets in val_loader:\n",
        "            val_data  = val_data.cuda()\n",
        "            val_pred = model(val_data)\n",
        "            val_pred_list.append(val_pred.cpu().detach().numpy())\n",
        "            val_true_list.append(val_targets.numpy())\n",
        "        val_true = np.concatenate(val_true_list)\n",
        "        val_pred = np.concatenate(val_pred_list)\n",
        "        val_auc = auc_roc_score(val_true, val_pred)\n",
        "\n",
        "        val_pred_binary = (val_pred > 0.5).astype(int)\n",
        "        val_accuracy = accuracy_score(val_true, val_pred_binary)\n",
        "          \n",
        "        if best_val_auc < val_auc:\n",
        "          best_val_auc = val_auc\n",
        "          best_model = model\n",
        "\n",
        "        train_log.append(val_auc)    \n",
        "       \n",
        "\n",
        "     print(\"epoch: %s, epoch_loss: %.4f, val_auc: %.4f, lr: %.4f, best_val_auc: %.4f\"%(epoch, epoch_loss, val_auc, optimizer.lr, best_val_auc))    "
      ],
      "metadata": {
        "colab": {
          "base_uri": "https://localhost:8080/"
        },
        "id": "H1nk8FK3Qygb",
        "outputId": "2acc0d9f-7649-4cfa-fabc-125177e76cbf",
        "execution": {
          "iopub.status.busy": "2023-05-08T12:24:27.837524Z",
          "iopub.execute_input": "2023-05-08T12:24:27.838254Z",
          "iopub.status.idle": "2023-05-08T12:34:15.613132Z",
          "shell.execute_reply.started": "2023-05-08T12:24:27.838220Z",
          "shell.execute_reply": "2023-05-08T12:34:15.612199Z"
        },
        "trusted": true
      },
      "execution_count": 9,
      "outputs": [
        {
          "output_type": "stream",
          "name": "stdout",
          "text": [
            "Start Training\n",
            "------------------------------\n",
            "epoch: 0, epoch_loss: 0.1763, val_auc: 0.4598, lr: 0.1000, best_val_auc: 0.4598\n",
            "epoch: 1, epoch_loss: 0.1837, val_auc: 0.5840, lr: 0.1000, best_val_auc: 0.5840\n",
            "epoch: 2, epoch_loss: 0.1909, val_auc: 0.5746, lr: 0.1000, best_val_auc: 0.5840\n",
            "epoch: 3, epoch_loss: 0.1880, val_auc: 0.5023, lr: 0.1000, best_val_auc: 0.5840\n",
            "epoch: 4, epoch_loss: 0.1914, val_auc: 0.6084, lr: 0.1000, best_val_auc: 0.6084\n",
            "epoch: 5, epoch_loss: 0.1812, val_auc: 0.5483, lr: 0.1000, best_val_auc: 0.6084\n",
            "epoch: 6, epoch_loss: 0.1803, val_auc: 0.6292, lr: 0.1000, best_val_auc: 0.6292\n",
            "epoch: 7, epoch_loss: 0.1664, val_auc: 0.5954, lr: 0.1000, best_val_auc: 0.6292\n",
            "epoch: 8, epoch_loss: 0.1796, val_auc: 0.5916, lr: 0.1000, best_val_auc: 0.6292\n",
            "epoch: 9, epoch_loss: 0.1732, val_auc: 0.5719, lr: 0.1000, best_val_auc: 0.6292\n",
            "epoch: 10, epoch_loss: 0.1648, val_auc: 0.5276, lr: 0.1000, best_val_auc: 0.6292\n",
            "epoch: 11, epoch_loss: 0.1751, val_auc: 0.6174, lr: 0.1000, best_val_auc: 0.6292\n",
            "epoch: 12, epoch_loss: 0.1743, val_auc: 0.6667, lr: 0.1000, best_val_auc: 0.6667\n",
            "epoch: 13, epoch_loss: 0.1618, val_auc: 0.6596, lr: 0.1000, best_val_auc: 0.6667\n",
            "epoch: 14, epoch_loss: 0.1670, val_auc: 0.6578, lr: 0.1000, best_val_auc: 0.6667\n",
            "epoch: 15, epoch_loss: 0.1602, val_auc: 0.4861, lr: 0.1000, best_val_auc: 0.6667\n",
            "epoch: 16, epoch_loss: 0.1560, val_auc: 0.6056, lr: 0.1000, best_val_auc: 0.6667\n",
            "epoch: 17, epoch_loss: 0.1592, val_auc: 0.6781, lr: 0.1000, best_val_auc: 0.6781\n",
            "epoch: 18, epoch_loss: 0.1529, val_auc: 0.5940, lr: 0.1000, best_val_auc: 0.6781\n",
            "epoch: 19, epoch_loss: 0.1519, val_auc: 0.6017, lr: 0.1000, best_val_auc: 0.6781\n",
            "epoch: 20, epoch_loss: 0.1600, val_auc: 0.6227, lr: 0.1000, best_val_auc: 0.6781\n",
            "epoch: 21, epoch_loss: 0.1457, val_auc: 0.5501, lr: 0.1000, best_val_auc: 0.6781\n",
            "epoch: 22, epoch_loss: 0.1529, val_auc: 0.6295, lr: 0.1000, best_val_auc: 0.6781\n",
            "epoch: 23, epoch_loss: 0.1565, val_auc: 0.6686, lr: 0.1000, best_val_auc: 0.6781\n",
            "epoch: 24, epoch_loss: 0.1445, val_auc: 0.5856, lr: 0.1000, best_val_auc: 0.6781\n",
            "epoch: 25, epoch_loss: 0.1482, val_auc: 0.5762, lr: 0.1000, best_val_auc: 0.6781\n",
            "epoch: 26, epoch_loss: 0.1447, val_auc: 0.4423, lr: 0.1000, best_val_auc: 0.6781\n",
            "epoch: 27, epoch_loss: 0.1708, val_auc: 0.3879, lr: 0.1000, best_val_auc: 0.6781\n",
            "epoch: 28, epoch_loss: 0.1507, val_auc: 0.5200, lr: 0.1000, best_val_auc: 0.6781\n",
            "epoch: 29, epoch_loss: 0.1482, val_auc: 0.5922, lr: 0.1000, best_val_auc: 0.6781\n",
            "epoch: 30, epoch_loss: 0.1620, val_auc: 0.6014, lr: 0.1000, best_val_auc: 0.6781\n",
            "epoch: 31, epoch_loss: 0.1456, val_auc: 0.5262, lr: 0.1000, best_val_auc: 0.6781\n",
            "epoch: 32, epoch_loss: 0.1431, val_auc: 0.5953, lr: 0.1000, best_val_auc: 0.6781\n",
            "epoch: 33, epoch_loss: 0.1495, val_auc: 0.6738, lr: 0.1000, best_val_auc: 0.6781\n",
            "epoch: 34, epoch_loss: 0.1500, val_auc: 0.5998, lr: 0.1000, best_val_auc: 0.6781\n",
            "epoch: 35, epoch_loss: 0.1393, val_auc: 0.6460, lr: 0.1000, best_val_auc: 0.6781\n",
            "epoch: 36, epoch_loss: 0.1387, val_auc: 0.6185, lr: 0.1000, best_val_auc: 0.6781\n",
            "epoch: 37, epoch_loss: 0.1323, val_auc: 0.6923, lr: 0.1000, best_val_auc: 0.6923\n",
            "epoch: 38, epoch_loss: 0.1433, val_auc: 0.5951, lr: 0.1000, best_val_auc: 0.6923\n",
            "epoch: 39, epoch_loss: 0.1473, val_auc: 0.5273, lr: 0.1000, best_val_auc: 0.6923\n",
            "epoch: 40, epoch_loss: 0.1365, val_auc: 0.6428, lr: 0.1000, best_val_auc: 0.6923\n",
            "epoch: 41, epoch_loss: 0.1341, val_auc: 0.6962, lr: 0.1000, best_val_auc: 0.6962\n",
            "epoch: 42, epoch_loss: 0.1250, val_auc: 0.6791, lr: 0.1000, best_val_auc: 0.6962\n",
            "epoch: 43, epoch_loss: 0.1261, val_auc: 0.5615, lr: 0.1000, best_val_auc: 0.6962\n",
            "epoch: 44, epoch_loss: 0.1230, val_auc: 0.5917, lr: 0.1000, best_val_auc: 0.6962\n",
            "epoch: 45, epoch_loss: 0.1229, val_auc: 0.6116, lr: 0.1000, best_val_auc: 0.6962\n",
            "epoch: 46, epoch_loss: 0.1289, val_auc: 0.6148, lr: 0.1000, best_val_auc: 0.6962\n",
            "epoch: 47, epoch_loss: 0.1277, val_auc: 0.5837, lr: 0.1000, best_val_auc: 0.6962\n",
            "epoch: 48, epoch_loss: 0.1402, val_auc: 0.4780, lr: 0.1000, best_val_auc: 0.6962\n",
            "epoch: 49, epoch_loss: 0.1212, val_auc: 0.6064, lr: 0.1000, best_val_auc: 0.6962\n",
            "Reducing learning rate to 0.01000 @ T=1000!\n",
            "Updating regularizer @ T=1000!\n",
            "epoch: 50, epoch_loss: 0.1103, val_auc: 0.6990, lr: 0.0100, best_val_auc: 0.6990\n",
            "epoch: 51, epoch_loss: 0.0973, val_auc: 0.7096, lr: 0.0100, best_val_auc: 0.7096\n",
            "epoch: 52, epoch_loss: 0.0931, val_auc: 0.7288, lr: 0.0100, best_val_auc: 0.7288\n",
            "epoch: 53, epoch_loss: 0.0896, val_auc: 0.7410, lr: 0.0100, best_val_auc: 0.7410\n",
            "epoch: 54, epoch_loss: 0.0835, val_auc: 0.7474, lr: 0.0100, best_val_auc: 0.7474\n",
            "epoch: 55, epoch_loss: 0.0785, val_auc: 0.7059, lr: 0.0100, best_val_auc: 0.7474\n",
            "epoch: 56, epoch_loss: 0.0716, val_auc: 0.7560, lr: 0.0100, best_val_auc: 0.7560\n",
            "epoch: 57, epoch_loss: 0.0736, val_auc: 0.7458, lr: 0.0100, best_val_auc: 0.7560\n",
            "epoch: 58, epoch_loss: 0.0666, val_auc: 0.7380, lr: 0.0100, best_val_auc: 0.7560\n",
            "epoch: 59, epoch_loss: 0.0642, val_auc: 0.7537, lr: 0.0100, best_val_auc: 0.7560\n",
            "epoch: 60, epoch_loss: 0.0566, val_auc: 0.7371, lr: 0.0100, best_val_auc: 0.7560\n",
            "epoch: 61, epoch_loss: 0.0624, val_auc: 0.7508, lr: 0.0100, best_val_auc: 0.7560\n",
            "epoch: 62, epoch_loss: 0.0569, val_auc: 0.7715, lr: 0.0100, best_val_auc: 0.7715\n",
            "epoch: 63, epoch_loss: 0.0497, val_auc: 0.7789, lr: 0.0100, best_val_auc: 0.7789\n",
            "epoch: 64, epoch_loss: 0.0475, val_auc: 0.7665, lr: 0.0100, best_val_auc: 0.7789\n",
            "epoch: 65, epoch_loss: 0.0450, val_auc: 0.7833, lr: 0.0100, best_val_auc: 0.7833\n",
            "epoch: 66, epoch_loss: 0.0455, val_auc: 0.7214, lr: 0.0100, best_val_auc: 0.7833\n",
            "epoch: 67, epoch_loss: 0.0371, val_auc: 0.7744, lr: 0.0100, best_val_auc: 0.7833\n",
            "epoch: 68, epoch_loss: 0.0408, val_auc: 0.7542, lr: 0.0100, best_val_auc: 0.7833\n",
            "epoch: 69, epoch_loss: 0.0358, val_auc: 0.7523, lr: 0.0100, best_val_auc: 0.7833\n",
            "epoch: 70, epoch_loss: 0.0381, val_auc: 0.7531, lr: 0.0100, best_val_auc: 0.7833\n",
            "epoch: 71, epoch_loss: 0.0345, val_auc: 0.7505, lr: 0.0100, best_val_auc: 0.7833\n",
            "epoch: 72, epoch_loss: 0.0310, val_auc: 0.7489, lr: 0.0100, best_val_auc: 0.7833\n",
            "epoch: 73, epoch_loss: 0.0307, val_auc: 0.7715, lr: 0.0100, best_val_auc: 0.7833\n",
            "epoch: 74, epoch_loss: 0.0298, val_auc: 0.7637, lr: 0.0100, best_val_auc: 0.7833\n",
            "Reducing learning rate to 0.00100 @ T=1500!\n",
            "Updating regularizer @ T=1500!\n",
            "epoch: 75, epoch_loss: 0.0275, val_auc: 0.7657, lr: 0.0010, best_val_auc: 0.7833\n",
            "epoch: 76, epoch_loss: 0.0227, val_auc: 0.7610, lr: 0.0010, best_val_auc: 0.7833\n",
            "epoch: 77, epoch_loss: 0.0242, val_auc: 0.7652, lr: 0.0010, best_val_auc: 0.7833\n",
            "epoch: 78, epoch_loss: 0.0225, val_auc: 0.7634, lr: 0.0010, best_val_auc: 0.7833\n",
            "epoch: 79, epoch_loss: 0.0223, val_auc: 0.7639, lr: 0.0010, best_val_auc: 0.7833\n",
            "epoch: 80, epoch_loss: 0.0213, val_auc: 0.7616, lr: 0.0010, best_val_auc: 0.7833\n",
            "epoch: 81, epoch_loss: 0.0209, val_auc: 0.7652, lr: 0.0010, best_val_auc: 0.7833\n",
            "epoch: 82, epoch_loss: 0.0218, val_auc: 0.7641, lr: 0.0010, best_val_auc: 0.7833\n",
            "epoch: 83, epoch_loss: 0.0221, val_auc: 0.7657, lr: 0.0010, best_val_auc: 0.7833\n",
            "epoch: 84, epoch_loss: 0.0217, val_auc: 0.7626, lr: 0.0010, best_val_auc: 0.7833\n",
            "epoch: 85, epoch_loss: 0.0205, val_auc: 0.7655, lr: 0.0010, best_val_auc: 0.7833\n",
            "epoch: 86, epoch_loss: 0.0214, val_auc: 0.7684, lr: 0.0010, best_val_auc: 0.7833\n",
            "epoch: 87, epoch_loss: 0.0207, val_auc: 0.7657, lr: 0.0010, best_val_auc: 0.7833\n",
            "epoch: 88, epoch_loss: 0.0194, val_auc: 0.7661, lr: 0.0010, best_val_auc: 0.7833\n",
            "epoch: 89, epoch_loss: 0.0214, val_auc: 0.7636, lr: 0.0010, best_val_auc: 0.7833\n",
            "epoch: 90, epoch_loss: 0.0205, val_auc: 0.7652, lr: 0.0010, best_val_auc: 0.7833\n",
            "epoch: 91, epoch_loss: 0.0199, val_auc: 0.7597, lr: 0.0010, best_val_auc: 0.7833\n",
            "epoch: 92, epoch_loss: 0.0208, val_auc: 0.7589, lr: 0.0010, best_val_auc: 0.7833\n",
            "epoch: 93, epoch_loss: 0.0198, val_auc: 0.7603, lr: 0.0010, best_val_auc: 0.7833\n",
            "epoch: 94, epoch_loss: 0.0197, val_auc: 0.7623, lr: 0.0010, best_val_auc: 0.7833\n",
            "epoch: 95, epoch_loss: 0.0182, val_auc: 0.7620, lr: 0.0010, best_val_auc: 0.7833\n",
            "epoch: 96, epoch_loss: 0.0189, val_auc: 0.7621, lr: 0.0010, best_val_auc: 0.7833\n",
            "epoch: 97, epoch_loss: 0.0181, val_auc: 0.7590, lr: 0.0010, best_val_auc: 0.7833\n",
            "epoch: 98, epoch_loss: 0.0190, val_auc: 0.7632, lr: 0.0010, best_val_auc: 0.7833\n",
            "epoch: 99, epoch_loss: 0.0170, val_auc: 0.7616, lr: 0.0010, best_val_auc: 0.7833\n"
          ]
        }
      ]
    },
    {
      "cell_type": "markdown",
      "source": [
        "# **Testing**"
      ],
      "metadata": {
        "id": "WwLpPTjmGjIn"
      }
    },
    {
      "cell_type": "code",
      "source": [
        "# Evaluation on Test data\n",
        "\n",
        "test_pred_list = []\n",
        "test_true_list = [] \n",
        "for test_data, test_targets in testloader:\n",
        "    test_data  = test_data.cuda()\n",
        "    test_pred = best_model(test_data)\n",
        "    test_pred_list.append(test_pred.cpu().detach().numpy())\n",
        "    test_true_list.append(test_targets.numpy())\n",
        "test_true = np.concatenate(test_true_list)\n",
        "test_pred = np.concatenate(test_pred_list)\n",
        "test_auc =  auc_roc_score(test_true, test_pred) \n",
        "\n",
        "test_pred_binary = (test_pred > 0.5).astype(int)\n",
        "test_accuracy = accuracy_score(test_true, test_pred_binary)\n",
        "\n",
        "# print results\n",
        "print(\"Test AUC: %.4f, Test Accuracy: %.4f\"%(test_auc, test_accuracy))      "
      ],
      "metadata": {
        "id": "mWeZeX3C97Da",
        "execution": {
          "iopub.status.busy": "2023-05-08T12:52:10.977309Z",
          "iopub.execute_input": "2023-05-08T12:52:10.977716Z",
          "iopub.status.idle": "2023-05-08T12:52:11.676799Z",
          "shell.execute_reply.started": "2023-05-08T12:52:10.977685Z",
          "shell.execute_reply": "2023-05-08T12:52:11.675731Z"
        },
        "trusted": true,
        "outputId": "57d1c1c1-1287-4b5f-e572-0bf6a99a7bbb",
        "colab": {
          "base_uri": "https://localhost:8080/"
        }
      },
      "execution_count": 13,
      "outputs": [
        {
          "output_type": "stream",
          "name": "stdout",
          "text": [
            "Test AUC: 0.7665, Test Accuracy: 0.6989\n"
          ]
        }
      ]
    },
    {
      "cell_type": "code",
      "source": [
        "state = {\n",
        "    'net': best_model.state_dict(),\n",
        "}\n",
        "\n",
        "output_root = os.path.join('./output', 'synapseMNIST3D', time.strftime(\"%y%m%d_%H%M%S\"))\n",
        "if not os.path.exists(output_root):\n",
        "    os.makedirs(output_root)\n",
        "\n",
        "path = os.path.join(output_root, 'best_model.pth')\n",
        "torch.save(state, path)"
      ],
      "metadata": {
        "id": "oEtVwe46AYLg",
        "execution": {
          "iopub.status.busy": "2023-05-08T12:53:26.870832Z",
          "iopub.execute_input": "2023-05-08T12:53:26.871194Z",
          "iopub.status.idle": "2023-05-08T12:53:27.059307Z",
          "shell.execute_reply.started": "2023-05-08T12:53:26.871163Z",
          "shell.execute_reply": "2023-05-08T12:53:27.057945Z"
        },
        "trusted": true
      },
      "execution_count": 14,
      "outputs": []
    },
    {
      "cell_type": "code",
      "source": [
        "# Eval function similar to demo file\n",
        "\n",
        "def evaluate(net, test_loader):\n",
        "    # Testing AUC\n",
        "    score_list = list()\n",
        "    label_list = list()\n",
        "    for tmp_data, tmp_label in test_loader:\n",
        "        # tmp_data, tmp_label, tmp_idx = data\n",
        "        tmp_data, tmp_label = tmp_data.cuda(), tmp_label.cuda()\n",
        "#         tmp_data = tmp_data.expand(-1, 3, -1, -1)        \n",
        "        tmp_score = net(tmp_data).detach().clone().cpu()\n",
        "        score_list.append(tmp_score)\n",
        "        label_list.append(tmp_label.cpu())\n",
        "    test_label = torch.cat(label_list)\n",
        "    test_score = torch.cat(score_list)\n",
        "                   \n",
        "    test_auc = metrics.roc_auc_score(test_label, test_score)                   \n",
        "    print(\"Test: %.4f\"%test_auc, flush=True)\n",
        "\n",
        "evaluate(best_model, testloader)"
      ],
      "metadata": {
        "id": "dWvP7JR4G9yt",
        "execution": {
          "iopub.status.busy": "2023-05-08T12:52:16.539180Z",
          "iopub.execute_input": "2023-05-08T12:52:16.539719Z",
          "iopub.status.idle": "2023-05-08T12:52:17.246664Z",
          "shell.execute_reply.started": "2023-05-08T12:52:16.539688Z",
          "shell.execute_reply": "2023-05-08T12:52:17.243565Z"
        },
        "trusted": true,
        "outputId": "2495af5e-8361-4749-fcc2-f46a59fa2949",
        "colab": {
          "base_uri": "https://localhost:8080/"
        }
      },
      "execution_count": 15,
      "outputs": [
        {
          "output_type": "stream",
          "name": "stdout",
          "text": [
            "Test: 0.7665\n"
          ]
        }
      ]
    },
    {
      "cell_type": "code",
      "source": [],
      "metadata": {
        "id": "QP76VGIDzWxr"
      },
      "execution_count": 12,
      "outputs": []
    }
  ]
}